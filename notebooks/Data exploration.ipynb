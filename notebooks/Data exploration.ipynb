{
 "cells": [
  {
   "cell_type": "code",
   "execution_count": 1,
   "metadata": {},
   "outputs": [],
   "source": [
    "import pandas as pd\n",
    "import numpy as np\n",
    "\n",
    "import seaborn as sns\n",
    "import matplotlib as mplt\n",
    "import matplotlib.pyplot as plt\n",
    "\n",
    "from scipy import stats\n",
    "\n",
    "from sklearn.preprocessing import LabelEncoder\n",
    "%matplotlib inline"
   ]
  },
  {
   "cell_type": "code",
   "execution_count": 6,
   "metadata": {},
   "outputs": [],
   "source": [
    "TRAIN_PATH = \"../data/train.csv\"\n",
    "TEST_PATH = '../data/test.csv'\n",
    "Full_train = pd.read_csv(TRAIN_PATH,index_col='Id')\n",
    "Full_test = pd.read_csv(TEST_PATH)\n",
    "Full_train.dropna(axis=0,subset=['SalePrice'], inplace=True)\n",
    "y_full = Full_train.SalePrice\n",
    "X_full = Full_train.drop(axis=1, columns=['SalePrice'])"
   ]
  },
  {
   "cell_type": "code",
   "execution_count": 7,
   "metadata": {},
   "outputs": [
    {
     "data": {
      "text/html": [
       "<div>\n",
       "<style scoped>\n",
       "    .dataframe tbody tr th:only-of-type {\n",
       "        vertical-align: middle;\n",
       "    }\n",
       "\n",
       "    .dataframe tbody tr th {\n",
       "        vertical-align: top;\n",
       "    }\n",
       "\n",
       "    .dataframe thead th {\n",
       "        text-align: right;\n",
       "    }\n",
       "</style>\n",
       "<table border=\"1\" class=\"dataframe\">\n",
       "  <thead>\n",
       "    <tr style=\"text-align: right;\">\n",
       "      <th></th>\n",
       "      <th>MSSubClass</th>\n",
       "      <th>MSZoning</th>\n",
       "      <th>LotFrontage</th>\n",
       "      <th>LotArea</th>\n",
       "      <th>Street</th>\n",
       "      <th>Alley</th>\n",
       "      <th>LotShape</th>\n",
       "      <th>LandContour</th>\n",
       "      <th>Utilities</th>\n",
       "      <th>LotConfig</th>\n",
       "      <th>...</th>\n",
       "      <th>PoolArea</th>\n",
       "      <th>PoolQC</th>\n",
       "      <th>Fence</th>\n",
       "      <th>MiscFeature</th>\n",
       "      <th>MiscVal</th>\n",
       "      <th>MoSold</th>\n",
       "      <th>YrSold</th>\n",
       "      <th>SaleType</th>\n",
       "      <th>SaleCondition</th>\n",
       "      <th>price</th>\n",
       "    </tr>\n",
       "    <tr>\n",
       "      <th>Id</th>\n",
       "      <th></th>\n",
       "      <th></th>\n",
       "      <th></th>\n",
       "      <th></th>\n",
       "      <th></th>\n",
       "      <th></th>\n",
       "      <th></th>\n",
       "      <th></th>\n",
       "      <th></th>\n",
       "      <th></th>\n",
       "      <th></th>\n",
       "      <th></th>\n",
       "      <th></th>\n",
       "      <th></th>\n",
       "      <th></th>\n",
       "      <th></th>\n",
       "      <th></th>\n",
       "      <th></th>\n",
       "      <th></th>\n",
       "      <th></th>\n",
       "      <th></th>\n",
       "    </tr>\n",
       "  </thead>\n",
       "  <tbody>\n",
       "    <tr>\n",
       "      <th>1</th>\n",
       "      <td>60</td>\n",
       "      <td>RL</td>\n",
       "      <td>65.0</td>\n",
       "      <td>8450</td>\n",
       "      <td>Pave</td>\n",
       "      <td>NaN</td>\n",
       "      <td>Reg</td>\n",
       "      <td>Lvl</td>\n",
       "      <td>AllPub</td>\n",
       "      <td>Inside</td>\n",
       "      <td>...</td>\n",
       "      <td>0</td>\n",
       "      <td>NaN</td>\n",
       "      <td>NaN</td>\n",
       "      <td>NaN</td>\n",
       "      <td>0</td>\n",
       "      <td>2</td>\n",
       "      <td>2008</td>\n",
       "      <td>WD</td>\n",
       "      <td>Normal</td>\n",
       "      <td>208500</td>\n",
       "    </tr>\n",
       "    <tr>\n",
       "      <th>2</th>\n",
       "      <td>20</td>\n",
       "      <td>RL</td>\n",
       "      <td>80.0</td>\n",
       "      <td>9600</td>\n",
       "      <td>Pave</td>\n",
       "      <td>NaN</td>\n",
       "      <td>Reg</td>\n",
       "      <td>Lvl</td>\n",
       "      <td>AllPub</td>\n",
       "      <td>FR2</td>\n",
       "      <td>...</td>\n",
       "      <td>0</td>\n",
       "      <td>NaN</td>\n",
       "      <td>NaN</td>\n",
       "      <td>NaN</td>\n",
       "      <td>0</td>\n",
       "      <td>5</td>\n",
       "      <td>2007</td>\n",
       "      <td>WD</td>\n",
       "      <td>Normal</td>\n",
       "      <td>181500</td>\n",
       "    </tr>\n",
       "    <tr>\n",
       "      <th>3</th>\n",
       "      <td>60</td>\n",
       "      <td>RL</td>\n",
       "      <td>68.0</td>\n",
       "      <td>11250</td>\n",
       "      <td>Pave</td>\n",
       "      <td>NaN</td>\n",
       "      <td>IR1</td>\n",
       "      <td>Lvl</td>\n",
       "      <td>AllPub</td>\n",
       "      <td>Inside</td>\n",
       "      <td>...</td>\n",
       "      <td>0</td>\n",
       "      <td>NaN</td>\n",
       "      <td>NaN</td>\n",
       "      <td>NaN</td>\n",
       "      <td>0</td>\n",
       "      <td>9</td>\n",
       "      <td>2008</td>\n",
       "      <td>WD</td>\n",
       "      <td>Normal</td>\n",
       "      <td>223500</td>\n",
       "    </tr>\n",
       "    <tr>\n",
       "      <th>4</th>\n",
       "      <td>70</td>\n",
       "      <td>RL</td>\n",
       "      <td>60.0</td>\n",
       "      <td>9550</td>\n",
       "      <td>Pave</td>\n",
       "      <td>NaN</td>\n",
       "      <td>IR1</td>\n",
       "      <td>Lvl</td>\n",
       "      <td>AllPub</td>\n",
       "      <td>Corner</td>\n",
       "      <td>...</td>\n",
       "      <td>0</td>\n",
       "      <td>NaN</td>\n",
       "      <td>NaN</td>\n",
       "      <td>NaN</td>\n",
       "      <td>0</td>\n",
       "      <td>2</td>\n",
       "      <td>2006</td>\n",
       "      <td>WD</td>\n",
       "      <td>Abnorml</td>\n",
       "      <td>140000</td>\n",
       "    </tr>\n",
       "    <tr>\n",
       "      <th>5</th>\n",
       "      <td>60</td>\n",
       "      <td>RL</td>\n",
       "      <td>84.0</td>\n",
       "      <td>14260</td>\n",
       "      <td>Pave</td>\n",
       "      <td>NaN</td>\n",
       "      <td>IR1</td>\n",
       "      <td>Lvl</td>\n",
       "      <td>AllPub</td>\n",
       "      <td>FR2</td>\n",
       "      <td>...</td>\n",
       "      <td>0</td>\n",
       "      <td>NaN</td>\n",
       "      <td>NaN</td>\n",
       "      <td>NaN</td>\n",
       "      <td>0</td>\n",
       "      <td>12</td>\n",
       "      <td>2008</td>\n",
       "      <td>WD</td>\n",
       "      <td>Normal</td>\n",
       "      <td>250000</td>\n",
       "    </tr>\n",
       "    <tr>\n",
       "      <th>...</th>\n",
       "      <td>...</td>\n",
       "      <td>...</td>\n",
       "      <td>...</td>\n",
       "      <td>...</td>\n",
       "      <td>...</td>\n",
       "      <td>...</td>\n",
       "      <td>...</td>\n",
       "      <td>...</td>\n",
       "      <td>...</td>\n",
       "      <td>...</td>\n",
       "      <td>...</td>\n",
       "      <td>...</td>\n",
       "      <td>...</td>\n",
       "      <td>...</td>\n",
       "      <td>...</td>\n",
       "      <td>...</td>\n",
       "      <td>...</td>\n",
       "      <td>...</td>\n",
       "      <td>...</td>\n",
       "      <td>...</td>\n",
       "      <td>...</td>\n",
       "    </tr>\n",
       "    <tr>\n",
       "      <th>1456</th>\n",
       "      <td>60</td>\n",
       "      <td>RL</td>\n",
       "      <td>62.0</td>\n",
       "      <td>7917</td>\n",
       "      <td>Pave</td>\n",
       "      <td>NaN</td>\n",
       "      <td>Reg</td>\n",
       "      <td>Lvl</td>\n",
       "      <td>AllPub</td>\n",
       "      <td>Inside</td>\n",
       "      <td>...</td>\n",
       "      <td>0</td>\n",
       "      <td>NaN</td>\n",
       "      <td>NaN</td>\n",
       "      <td>NaN</td>\n",
       "      <td>0</td>\n",
       "      <td>8</td>\n",
       "      <td>2007</td>\n",
       "      <td>WD</td>\n",
       "      <td>Normal</td>\n",
       "      <td>175000</td>\n",
       "    </tr>\n",
       "    <tr>\n",
       "      <th>1457</th>\n",
       "      <td>20</td>\n",
       "      <td>RL</td>\n",
       "      <td>85.0</td>\n",
       "      <td>13175</td>\n",
       "      <td>Pave</td>\n",
       "      <td>NaN</td>\n",
       "      <td>Reg</td>\n",
       "      <td>Lvl</td>\n",
       "      <td>AllPub</td>\n",
       "      <td>Inside</td>\n",
       "      <td>...</td>\n",
       "      <td>0</td>\n",
       "      <td>NaN</td>\n",
       "      <td>MnPrv</td>\n",
       "      <td>NaN</td>\n",
       "      <td>0</td>\n",
       "      <td>2</td>\n",
       "      <td>2010</td>\n",
       "      <td>WD</td>\n",
       "      <td>Normal</td>\n",
       "      <td>210000</td>\n",
       "    </tr>\n",
       "    <tr>\n",
       "      <th>1458</th>\n",
       "      <td>70</td>\n",
       "      <td>RL</td>\n",
       "      <td>66.0</td>\n",
       "      <td>9042</td>\n",
       "      <td>Pave</td>\n",
       "      <td>NaN</td>\n",
       "      <td>Reg</td>\n",
       "      <td>Lvl</td>\n",
       "      <td>AllPub</td>\n",
       "      <td>Inside</td>\n",
       "      <td>...</td>\n",
       "      <td>0</td>\n",
       "      <td>NaN</td>\n",
       "      <td>GdPrv</td>\n",
       "      <td>Shed</td>\n",
       "      <td>2500</td>\n",
       "      <td>5</td>\n",
       "      <td>2010</td>\n",
       "      <td>WD</td>\n",
       "      <td>Normal</td>\n",
       "      <td>266500</td>\n",
       "    </tr>\n",
       "    <tr>\n",
       "      <th>1459</th>\n",
       "      <td>20</td>\n",
       "      <td>RL</td>\n",
       "      <td>68.0</td>\n",
       "      <td>9717</td>\n",
       "      <td>Pave</td>\n",
       "      <td>NaN</td>\n",
       "      <td>Reg</td>\n",
       "      <td>Lvl</td>\n",
       "      <td>AllPub</td>\n",
       "      <td>Inside</td>\n",
       "      <td>...</td>\n",
       "      <td>0</td>\n",
       "      <td>NaN</td>\n",
       "      <td>NaN</td>\n",
       "      <td>NaN</td>\n",
       "      <td>0</td>\n",
       "      <td>4</td>\n",
       "      <td>2010</td>\n",
       "      <td>WD</td>\n",
       "      <td>Normal</td>\n",
       "      <td>142125</td>\n",
       "    </tr>\n",
       "    <tr>\n",
       "      <th>1460</th>\n",
       "      <td>20</td>\n",
       "      <td>RL</td>\n",
       "      <td>75.0</td>\n",
       "      <td>9937</td>\n",
       "      <td>Pave</td>\n",
       "      <td>NaN</td>\n",
       "      <td>Reg</td>\n",
       "      <td>Lvl</td>\n",
       "      <td>AllPub</td>\n",
       "      <td>Inside</td>\n",
       "      <td>...</td>\n",
       "      <td>0</td>\n",
       "      <td>NaN</td>\n",
       "      <td>NaN</td>\n",
       "      <td>NaN</td>\n",
       "      <td>0</td>\n",
       "      <td>6</td>\n",
       "      <td>2008</td>\n",
       "      <td>WD</td>\n",
       "      <td>Normal</td>\n",
       "      <td>147500</td>\n",
       "    </tr>\n",
       "  </tbody>\n",
       "</table>\n",
       "<p>1460 rows × 80 columns</p>\n",
       "</div>"
      ],
      "text/plain": [
       "      MSSubClass MSZoning  LotFrontage  LotArea Street Alley LotShape  \\\n",
       "Id                                                                      \n",
       "1             60       RL         65.0     8450   Pave   NaN      Reg   \n",
       "2             20       RL         80.0     9600   Pave   NaN      Reg   \n",
       "3             60       RL         68.0    11250   Pave   NaN      IR1   \n",
       "4             70       RL         60.0     9550   Pave   NaN      IR1   \n",
       "5             60       RL         84.0    14260   Pave   NaN      IR1   \n",
       "...          ...      ...          ...      ...    ...   ...      ...   \n",
       "1456          60       RL         62.0     7917   Pave   NaN      Reg   \n",
       "1457          20       RL         85.0    13175   Pave   NaN      Reg   \n",
       "1458          70       RL         66.0     9042   Pave   NaN      Reg   \n",
       "1459          20       RL         68.0     9717   Pave   NaN      Reg   \n",
       "1460          20       RL         75.0     9937   Pave   NaN      Reg   \n",
       "\n",
       "     LandContour Utilities LotConfig  ... PoolArea PoolQC  Fence MiscFeature  \\\n",
       "Id                                    ...                                      \n",
       "1            Lvl    AllPub    Inside  ...        0    NaN    NaN         NaN   \n",
       "2            Lvl    AllPub       FR2  ...        0    NaN    NaN         NaN   \n",
       "3            Lvl    AllPub    Inside  ...        0    NaN    NaN         NaN   \n",
       "4            Lvl    AllPub    Corner  ...        0    NaN    NaN         NaN   \n",
       "5            Lvl    AllPub       FR2  ...        0    NaN    NaN         NaN   \n",
       "...          ...       ...       ...  ...      ...    ...    ...         ...   \n",
       "1456         Lvl    AllPub    Inside  ...        0    NaN    NaN         NaN   \n",
       "1457         Lvl    AllPub    Inside  ...        0    NaN  MnPrv         NaN   \n",
       "1458         Lvl    AllPub    Inside  ...        0    NaN  GdPrv        Shed   \n",
       "1459         Lvl    AllPub    Inside  ...        0    NaN    NaN         NaN   \n",
       "1460         Lvl    AllPub    Inside  ...        0    NaN    NaN         NaN   \n",
       "\n",
       "     MiscVal MoSold  YrSold  SaleType  SaleCondition   price  \n",
       "Id                                                            \n",
       "1          0      2    2008        WD         Normal  208500  \n",
       "2          0      5    2007        WD         Normal  181500  \n",
       "3          0      9    2008        WD         Normal  223500  \n",
       "4          0      2    2006        WD        Abnorml  140000  \n",
       "5          0     12    2008        WD         Normal  250000  \n",
       "...      ...    ...     ...       ...            ...     ...  \n",
       "1456       0      8    2007        WD         Normal  175000  \n",
       "1457       0      2    2010        WD         Normal  210000  \n",
       "1458    2500      5    2010        WD         Normal  266500  \n",
       "1459       0      4    2010        WD         Normal  142125  \n",
       "1460       0      6    2008        WD         Normal  147500  \n",
       "\n",
       "[1460 rows x 80 columns]"
      ]
     },
     "execution_count": 7,
     "metadata": {},
     "output_type": "execute_result"
    }
   ],
   "source": [
    "Full_train = Full_train.rename(columns={'SalePrice' : 'price'})\n",
    "Full_train"
   ]
  },
  {
   "cell_type": "code",
   "execution_count": 8,
   "metadata": {},
   "outputs": [],
   "source": [
    "#columns_to_drop = ['MoSold','YrSold'] # these columns could be cause of data leakage, it is better to drop them\n",
    "X_full.drop(columns_to_drop, axis=1, inplace=True)"
   ]
  },
  {
   "cell_type": "code",
   "execution_count": 9,
   "metadata": {},
   "outputs": [],
   "source": [
    "numeric_col = list((X_full.select_dtypes(exclude='object')).columns)\n",
    "string_col = list((X_full.select_dtypes(include='object')).columns)\n",
    "low_categorical_col = [col for col in X_full.columns\n",
    "                  if X_full[col].dtype == 'object' and X_full[col].nunique() <10]"
   ]
  },
  {
   "cell_type": "markdown",
   "metadata": {},
   "source": [
    "# Explore data\n",
    "## column dtypes"
   ]
  },
  {
   "cell_type": "code",
   "execution_count": 10,
   "metadata": {},
   "outputs": [
    {
     "data": {
      "text/plain": [
       "MSSubClass         int64\n",
       "MSZoning          object\n",
       "LotFrontage      float64\n",
       "LotArea            int64\n",
       "Street            object\n",
       "Alley             object\n",
       "LotShape          object\n",
       "LandContour       object\n",
       "Utilities         object\n",
       "LotConfig         object\n",
       "LandSlope         object\n",
       "Neighborhood      object\n",
       "Condition1        object\n",
       "Condition2        object\n",
       "BldgType          object\n",
       "HouseStyle        object\n",
       "OverallQual        int64\n",
       "OverallCond        int64\n",
       "YearBuilt          int64\n",
       "YearRemodAdd       int64\n",
       "RoofStyle         object\n",
       "RoofMatl          object\n",
       "Exterior1st       object\n",
       "Exterior2nd       object\n",
       "MasVnrType        object\n",
       "MasVnrArea       float64\n",
       "ExterQual         object\n",
       "ExterCond         object\n",
       "Foundation        object\n",
       "BsmtQual          object\n",
       "BsmtCond          object\n",
       "BsmtExposure      object\n",
       "BsmtFinType1      object\n",
       "BsmtFinSF1         int64\n",
       "BsmtFinType2      object\n",
       "BsmtFinSF2         int64\n",
       "BsmtUnfSF          int64\n",
       "TotalBsmtSF        int64\n",
       "Heating           object\n",
       "HeatingQC         object\n",
       "CentralAir        object\n",
       "Electrical        object\n",
       "1stFlrSF           int64\n",
       "2ndFlrSF           int64\n",
       "LowQualFinSF       int64\n",
       "GrLivArea          int64\n",
       "BsmtFullBath       int64\n",
       "BsmtHalfBath       int64\n",
       "FullBath           int64\n",
       "HalfBath           int64\n",
       "BedroomAbvGr       int64\n",
       "KitchenAbvGr       int64\n",
       "KitchenQual       object\n",
       "TotRmsAbvGrd       int64\n",
       "Functional        object\n",
       "Fireplaces         int64\n",
       "FireplaceQu       object\n",
       "GarageType        object\n",
       "GarageYrBlt      float64\n",
       "GarageFinish      object\n",
       "GarageCars         int64\n",
       "GarageArea         int64\n",
       "GarageQual        object\n",
       "GarageCond        object\n",
       "PavedDrive        object\n",
       "WoodDeckSF         int64\n",
       "OpenPorchSF        int64\n",
       "EnclosedPorch      int64\n",
       "3SsnPorch          int64\n",
       "ScreenPorch        int64\n",
       "PoolArea           int64\n",
       "PoolQC            object\n",
       "Fence             object\n",
       "MiscFeature       object\n",
       "MiscVal            int64\n",
       "MoSold             int64\n",
       "YrSold             int64\n",
       "SaleType          object\n",
       "SaleCondition     object\n",
       "price              int64\n",
       "dtype: object"
      ]
     },
     "execution_count": 10,
     "metadata": {},
     "output_type": "execute_result"
    }
   ],
   "source": [
    "# to see dtypes of all columns, we need change max_rows\n",
    "pd.set_option('display.max_rows', 80)\n",
    "Full_train.dtypes"
   ]
  },
  {
   "cell_type": "markdown",
   "metadata": {},
   "source": [
    "### find all nans\n",
    "Probably, the only missed value is 'Electricial'(or maybe there was no electricity in this house?), in others cases nan is another category"
   ]
  },
  {
   "cell_type": "code",
   "execution_count": 11,
   "metadata": {},
   "outputs": [
    {
     "data": {
      "text/plain": [
       "LotFrontage      259\n",
       "Alley           1369\n",
       "MasVnrType         8\n",
       "MasVnrArea         8\n",
       "BsmtQual          37\n",
       "BsmtCond          37\n",
       "BsmtExposure      38\n",
       "BsmtFinType1      37\n",
       "BsmtFinType2      38\n",
       "Electrical         1\n",
       "FireplaceQu      690\n",
       "GarageType        81\n",
       "GarageYrBlt       81\n",
       "GarageFinish      81\n",
       "GarageQual        81\n",
       "GarageCond        81\n",
       "PoolQC          1453\n",
       "Fence           1179\n",
       "MiscFeature     1406\n",
       "dtype: int64"
      ]
     },
     "execution_count": 11,
     "metadata": {},
     "output_type": "execute_result"
    }
   ],
   "source": [
    "Full_train.isna().sum()[Full_train.isna().sum() > 0]"
   ]
  },
  {
   "cell_type": "code",
   "execution_count": 12,
   "metadata": {},
   "outputs": [
    {
     "data": {
      "text/plain": [
       "LotFrontage    259\n",
       "MasVnrArea       8\n",
       "GarageYrBlt     81\n",
       "dtype: int64"
      ]
     },
     "execution_count": 12,
     "metadata": {},
     "output_type": "execute_result"
    }
   ],
   "source": [
    "Full_train[numeric_col].isna().sum()[Full_train[numeric_col].isna().sum() > 0]"
   ]
  },
  {
   "cell_type": "markdown",
   "metadata": {},
   "source": [
    "LotFrontage is linear feet of street connected to property,\n",
    "MasVnrArea is Masonry veneer area in square feet. So, it can be NaN\n"
   ]
  },
  {
   "cell_type": "markdown",
   "metadata": {},
   "source": [
    "GarageYrBlt can be nan if no garage exist"
   ]
  },
  {
   "cell_type": "code",
   "execution_count": 13,
   "metadata": {},
   "outputs": [
    {
     "name": "stdout",
     "output_type": "stream",
     "text": [
      "Index(['LotFrontage', 'MasVnrArea', 'GarageYrBlt'], dtype='object')\n"
     ]
    }
   ],
   "source": [
    "missed_numeric_values = Full_train[numeric_col].isna().sum()[Full_train[numeric_col].isna().sum() > 0].index\n",
    "print(missed_numeric_values)"
   ]
  },
  {
   "cell_type": "markdown",
   "metadata": {},
   "source": [
    "## numeric data\n",
    "correlation between numeric cols"
   ]
  },
  {
   "cell_type": "code",
   "execution_count": 15,
   "metadata": {},
   "outputs": [],
   "source": [
    "full_x_corr = Full_train.corr()"
   ]
  },
  {
   "cell_type": "code",
   "execution_count": 17,
   "metadata": {},
   "outputs": [
    {
     "data": {
      "text/plain": [
       "<AxesSubplot:>"
      ]
     },
     "execution_count": 17,
     "metadata": {},
     "output_type": "execute_result"
    },
    {
     "data": {
      "image/png": "[encoded data removed]",
      "text/plain": [
       "<Figure size 1008x648 with 2 Axes>"
      ]
     },
     "metadata": {
      "needs_background": "light"
     },
     "output_type": "display_data"
    }
   ],
   "source": [
    "plt.figure(figsize=(14,9))\n",
    "sns.heatmap(full_x_corr, mask=abs(full_x_corr) < 0.5, xticklabels=True, yticklabels=True)"
   ]
  },
  {
   "cell_type": "markdown",
   "metadata": {},
   "source": [
    "These features has high correlation with price"
   ]
  },
  {
   "cell_type": "code",
   "execution_count": 35,
   "metadata": {},
   "outputs": [],
   "source": [
    "price_corr = full_x_corr.loc['price']\n",
    "price_corr = price_corr.iloc[:-1] # last row is correlation with itself, so it will be dropped"
   ]
  },
  {
   "cell_type": "code",
   "execution_count": 37,
   "metadata": {},
   "outputs": [
    {
     "data": {
      "text/plain": [
       "LotFrontage     0.351799\n",
       "LotArea         0.263843\n",
       "OverallQual     0.790982\n",
       "YearBuilt       0.522897\n",
       "YearRemodAdd    0.507101\n",
       "MasVnrArea      0.477493\n",
       "BsmtFinSF1      0.386420\n",
       "TotalBsmtSF     0.613581\n",
       "1stFlrSF        0.605852\n",
       "2ndFlrSF        0.319334\n",
       "GrLivArea       0.708624\n",
       "FullBath        0.560664\n",
       "HalfBath        0.284108\n",
       "TotRmsAbvGrd    0.533723\n",
       "Fireplaces      0.466929\n",
       "GarageYrBlt     0.486362\n",
       "GarageCars      0.640409\n",
       "GarageArea      0.623431\n",
       "WoodDeckSF      0.324413\n",
       "OpenPorchSF     0.315856\n",
       "Name: price, dtype: float64"
      ]
     },
     "execution_count": 37,
     "metadata": {},
     "output_type": "execute_result"
    }
   ],
   "source": [
    "price_corr.loc[abs(price_corr) >= 0.25]"
   ]
  },
  {
   "cell_type": "code",
   "execution_count": 38,
   "metadata": {},
   "outputs": [
    {
     "data": {
      "text/plain": [
       "OverallQual    0.790982\n",
       "Name: price, dtype: float64"
      ]
     },
     "execution_count": 38,
     "metadata": {},
     "output_type": "execute_result"
    }
   ],
   "source": [
    "strong_corr = price_corr.loc[abs(price_corr) >= 0.75]\n",
    "strong_corr"
   ]
  },
  {
   "cell_type": "code",
   "execution_count": 45,
   "metadata": {},
   "outputs": [
    {
     "data": {
      "text/plain": [
       "YearBuilt       0.522897\n",
       "YearRemodAdd    0.507101\n",
       "TotalBsmtSF     0.613581\n",
       "1stFlrSF        0.605852\n",
       "GrLivArea       0.708624\n",
       "FullBath        0.560664\n",
       "TotRmsAbvGrd    0.533723\n",
       "GarageCars      0.640409\n",
       "GarageArea      0.623431\n",
       "Name: price, dtype: float64"
      ]
     },
     "execution_count": 45,
     "metadata": {},
     "output_type": "execute_result"
    }
   ],
   "source": [
    "moderate_corr = price_corr.loc[(abs(price_corr) >= 0.5) & ~(price_corr.index.isin(strong_corr.index))]\n",
    "moderate_corr"
   ]
  },
  {
   "cell_type": "markdown",
   "metadata": {},
   "source": [
    "These features have high correlation of features that influence the price"
   ]
  },
  {
   "cell_type": "markdown",
   "metadata": {},
   "source": [
    "maybe they should be categorical"
   ]
  },
  {
   "cell_type": "code",
   "execution_count": 46,
   "metadata": {},
   "outputs": [],
   "source": [
    "from_num_to_cat = ['GarageCars', 'GarageYrBlt', 'YearBuilt', 'BedroomAbvGr', '2ndFlrSF']"
   ]
  },
  {
   "cell_type": "markdown",
   "metadata": {},
   "source": [
    "It was tested, without rows containing NaN, with 2 last features model performs slight better.(but a bit of worse comparing to using all rows without last 2 columns). It is possible that without dropping NaNs (imputing them) model could perforrm better ( need teest id)"
   ]
  },
  {
   "cell_type": "markdown",
   "metadata": {},
   "source": [
    "# GarageCars"
   ]
  },
  {
   "cell_type": "markdown",
   "metadata": {},
   "source": [
    "since GarageArea contains information on how many cars can fit in the garage, needed only one of them: either GarageCars or GarageArea"
   ]
  },
  {
   "cell_type": "markdown",
   "metadata": {},
   "source": [
    "## GarageYrBlt\n",
    "trying different things it was concluded, that there is no linear relationship between garageYrBuilt and price. But, perhaps, there *is* relationship, see the graphics below"
   ]
  },
  {
   "cell_type": "markdown",
   "metadata": {},
   "source": [
    "### Bin GarageYrBlt"
   ]
  },
  {
   "cell_type": "code",
   "execution_count": 99,
   "metadata": {},
   "outputs": [],
   "source": [
    "def find_best_bins_split(k, feature):\n",
    "    best_corr = 0\n",
    "    best_split = 0\n",
    "    for k_bins in range(1,k):\n",
    "        bins = np.linspace(Full_train[feature].min(), Full_train[feature].max(), k_bins)\n",
    "        years = pd.cut(Full_train[feature], bins=bins, include_lowest=True) # splitting original column on k bins and creating categorical variable\n",
    "        le = LabelEncoder()\n",
    "        le.fit(years)\n",
    "        encoded = pd.Series(le.transform(years)) # encoding categorical variable\n",
    "        y = Full_train['price'].reset_index().price \n",
    "        corr = encoded.to_frame().join(y).corr()['price'].iloc[0]\n",
    "        if abs(corr) > best_corr:\n",
    "            best_corr = corr\n",
    "            best_split = k_bins\n",
    "    return best_split, best_corr"
   ]
  },
  {
   "cell_type": "code",
   "execution_count": 63,
   "metadata": {},
   "outputs": [
    {
     "data": {
      "text/plain": [
       "97"
      ]
     },
     "execution_count": 63,
     "metadata": {},
     "output_type": "execute_result"
    }
   ],
   "source": [
    "Full_train['GarageYrBlt'].nunique()"
   ]
  },
  {
   "cell_type": "code",
   "execution_count": 64,
   "metadata": {},
   "outputs": [],
   "source": [
    "split, corr_coeff = find_best_bins_split(97,'GarageYrBlt')"
   ]
  },
  {
   "cell_type": "code",
   "execution_count": 79,
   "metadata": {},
   "outputs": [
    {
     "data": {
      "text/plain": [
       "0.3847687969006023"
      ]
     },
     "execution_count": 79,
     "metadata": {},
     "output_type": "execute_result"
    }
   ],
   "source": [
    "corr_coeff"
   ]
  },
  {
   "cell_type": "code",
   "execution_count": 66,
   "metadata": {},
   "outputs": [
    {
     "data": {
      "text/plain": [
       "95"
      ]
     },
     "execution_count": 66,
     "metadata": {},
     "output_type": "execute_result"
    }
   ],
   "source": [
    "split"
   ]
  },
  {
   "cell_type": "markdown",
   "metadata": {},
   "source": [
    "The best possible split is using all (almost) columns, hence there is no use in equall split."
   ]
  },
  {
   "cell_type": "markdown",
   "metadata": {},
   "source": [
    "#### replacing Year of build on Age of garage"
   ]
  },
  {
   "cell_type": "code",
   "execution_count": 67,
   "metadata": {},
   "outputs": [
    {
     "data": {
      "text/plain": [
       "Id\n",
       "1       2003.0\n",
       "2       1976.0\n",
       "3       2001.0\n",
       "4       1998.0\n",
       "5       2000.0\n",
       "         ...  \n",
       "1456    1999.0\n",
       "1457    1978.0\n",
       "1458    1941.0\n",
       "1459    1950.0\n",
       "1460    1965.0\n",
       "Name: GarageYrBlt, Length: 1460, dtype: float64"
      ]
     },
     "execution_count": 67,
     "metadata": {},
     "output_type": "execute_result"
    }
   ],
   "source": [
    "Full_train['GarageYrBlt']"
   ]
  },
  {
   "cell_type": "code",
   "execution_count": 70,
   "metadata": {},
   "outputs": [],
   "source": [
    "age_of_garage = Full_train['YrSold'] - Full_train['GarageYrBlt']"
   ]
  },
  {
   "cell_type": "code",
   "execution_count": 81,
   "metadata": {},
   "outputs": [
    {
     "data": {
      "text/plain": [
       "81"
      ]
     },
     "execution_count": 81,
     "metadata": {},
     "output_type": "execute_result"
    }
   ],
   "source": [
    "age_of_garage.isna().sum()"
   ]
  },
  {
   "cell_type": "code",
   "execution_count": 71,
   "metadata": {},
   "outputs": [
    {
     "data": {
      "text/plain": [
       "101"
      ]
     },
     "execution_count": 71,
     "metadata": {},
     "output_type": "execute_result"
    }
   ],
   "source": [
    "age_of_garage.nunique()"
   ]
  },
  {
   "cell_type": "code",
   "execution_count": 84,
   "metadata": {},
   "outputs": [
    {
     "data": {
      "text/plain": [
       "-0.3898082004901332"
      ]
     },
     "execution_count": 84,
     "metadata": {},
     "output_type": "execute_result"
    }
   ],
   "source": [
    "age_of_garage.replace(np.nan, 0).corr(y_full)"
   ]
  },
  {
   "cell_type": "code",
   "execution_count": 78,
   "metadata": {},
   "outputs": [
    {
     "data": {
      "text/plain": [
       "-0.48706858845296663"
      ]
     },
     "execution_count": 78,
     "metadata": {},
     "output_type": "execute_result"
    }
   ],
   "source": [
    "age_of_garage.corr(y_full)"
   ]
  },
  {
   "cell_type": "code",
   "execution_count": 96,
   "metadata": {},
   "outputs": [],
   "source": [
    "data = age_of_garage.to_frame().join(y_full)\n",
    "data.columns = ['age', 'price']"
   ]
  },
  {
   "cell_type": "markdown",
   "metadata": {},
   "source": [
    "### Perhaps, there is non-linear relationship between garage and price"
   ]
  },
  {
   "cell_type": "code",
   "execution_count": 98,
   "metadata": {},
   "outputs": [
    {
     "data": {
      "text/plain": [
       "<AxesSubplot:xlabel='age'>"
      ]
     },
     "execution_count": 98,
     "metadata": {},
     "output_type": "execute_result"
    },
    {
     "data": {
      "image/png": "[encoded data removed]",
      "text/plain": [
       "<Figure size 432x288 with 1 Axes>"
      ]
     },
     "metadata": {
      "needs_background": "light"
     },
     "output_type": "display_data"
    }
   ],
   "source": [
    "sns.scatterplot(data=data.set_index('age'))"
   ]
  },
  {
   "cell_type": "code",
   "execution_count": 95,
   "metadata": {},
   "outputs": [
    {
     "data": {
      "text/plain": [
       "<AxesSubplot:xlabel='GarageYrBlt', ylabel='SalePrice'>"
      ]
     },
     "execution_count": 95,
     "metadata": {},
     "output_type": "execute_result"
    },
    {
     "data": {
      "image/png": "[encoded data removed]",
      "text/plain": [
       "<Figure size 432x288 with 1 Axes>"
      ]
     },
     "metadata": {
      "needs_background": "light"
     },
     "output_type": "display_data"
    }
   ],
   "source": [
    "sns.scatterplot(x=Full_train['GarageYrBlt'], y=y_full)"
   ]
  },
  {
   "cell_type": "markdown",
   "metadata": {},
   "source": [
    "## YearBuilt"
   ]
  },
  {
   "cell_type": "code",
   "execution_count": 24,
   "metadata": {},
   "outputs": [],
   "source": [
    "feature = 'YearBuilt'\n",
    "bins = np.linspace(Full_train[feature].min(), Full_train[feature].max(), 13)\n",
    "years = pd.cut(Full_train[feature], bins=bins, include_lowest=True)"
   ]
  },
  {
   "cell_type": "code",
   "execution_count": 26,
   "metadata": {},
   "outputs": [
    {
     "data": {
      "text/plain": [
       "LabelEncoder()"
      ]
     },
     "execution_count": 26,
     "metadata": {},
     "output_type": "execute_result"
    }
   ],
   "source": [
    "le = LabelEncoder()\n",
    "le.fit(years)"
   ]
  },
  {
   "cell_type": "code",
   "execution_count": 27,
   "metadata": {},
   "outputs": [],
   "source": [
    "encoded = le.transform(years)"
   ]
  },
  {
   "cell_type": "code",
   "execution_count": 28,
   "metadata": {},
   "outputs": [
    {
     "data": {
      "text/html": [
       "<div>\n",
       "<style scoped>\n",
       "    .dataframe tbody tr th:only-of-type {\n",
       "        vertical-align: middle;\n",
       "    }\n",
       "\n",
       "    .dataframe tbody tr th {\n",
       "        vertical-align: top;\n",
       "    }\n",
       "\n",
       "    .dataframe thead th {\n",
       "        text-align: right;\n",
       "    }\n",
       "</style>\n",
       "<table border=\"1\" class=\"dataframe\">\n",
       "  <thead>\n",
       "    <tr style=\"text-align: right;\">\n",
       "      <th></th>\n",
       "      <th>0</th>\n",
       "      <th>price</th>\n",
       "    </tr>\n",
       "  </thead>\n",
       "  <tbody>\n",
       "    <tr>\n",
       "      <th>0</th>\n",
       "      <td>1.000000</td>\n",
       "      <td>0.511377</td>\n",
       "    </tr>\n",
       "    <tr>\n",
       "      <th>price</th>\n",
       "      <td>0.511377</td>\n",
       "      <td>1.000000</td>\n",
       "    </tr>\n",
       "  </tbody>\n",
       "</table>\n",
       "</div>"
      ],
      "text/plain": [
       "              0     price\n",
       "0      1.000000  0.511377\n",
       "price  0.511377  1.000000"
      ]
     },
     "execution_count": 28,
     "metadata": {},
     "output_type": "execute_result"
    }
   ],
   "source": [
    "pd.Series(encoded).to_frame().join(y).corr()"
   ]
  },
  {
   "cell_type": "markdown",
   "metadata": {},
   "source": [
    "I do not know how exactly I should bin the YearBuilt for best result, but I can say this feature is worth further examination"
   ]
  },
  {
   "cell_type": "code",
   "execution_count": 100,
   "metadata": {},
   "outputs": [
    {
     "data": {
      "text/plain": [
       "112"
      ]
     },
     "execution_count": 100,
     "metadata": {},
     "output_type": "execute_result"
    }
   ],
   "source": [
    "Full_train['YearBuilt'].nunique()"
   ]
  },
  {
   "cell_type": "code",
   "execution_count": 101,
   "metadata": {},
   "outputs": [
    {
     "data": {
      "text/plain": [
       "(111, 0.5352166886201967)"
      ]
     },
     "execution_count": 101,
     "metadata": {},
     "output_type": "execute_result"
    }
   ],
   "source": [
    "find_best_bins_split(112,'YearBuilt')"
   ]
  },
  {
   "cell_type": "markdown",
   "metadata": {},
   "source": [
    "### Age of house"
   ]
  },
  {
   "cell_type": "code",
   "execution_count": 102,
   "metadata": {},
   "outputs": [],
   "source": [
    "age_house = Full_train['YrSold'] - Full_train['YearBuilt']"
   ]
  },
  {
   "cell_type": "code",
   "execution_count": 106,
   "metadata": {},
   "outputs": [
    {
     "data": {
      "text/plain": [
       "-0.523350417546816"
      ]
     },
     "execution_count": 106,
     "metadata": {},
     "output_type": "execute_result"
    }
   ],
   "source": [
    "age_house.corr(y_full)"
   ]
  },
  {
   "cell_type": "code",
   "execution_count": 107,
   "metadata": {},
   "outputs": [
    {
     "data": {
      "text/plain": [
       "0.5228973328794969"
      ]
     },
     "execution_count": 107,
     "metadata": {},
     "output_type": "execute_result"
    }
   ],
   "source": [
    "Full_train['YearBuilt'].corr(y_full)"
   ]
  },
  {
   "cell_type": "code",
   "execution_count": 108,
   "metadata": {},
   "outputs": [
    {
     "data": {
      "text/plain": [
       "<AxesSubplot:ylabel='SalePrice'>"
      ]
     },
     "execution_count": 108,
     "metadata": {},
     "output_type": "execute_result"
    },
    {
     "data": {
      "image/png": "[encoded data removed]",
      "text/plain": [
       "<Figure size 432x288 with 1 Axes>"
      ]
     },
     "metadata": {
      "needs_background": "light"
     },
     "output_type": "display_data"
    }
   ],
   "source": [
    "sns.scatterplot(x=age_house, y=y_full)"
   ]
  },
  {
   "cell_type": "markdown",
   "metadata": {},
   "source": [
    "## BedroomAbvGr"
   ]
  },
  {
   "cell_type": "code",
   "execution_count": 110,
   "metadata": {},
   "outputs": [
    {
     "data": {
      "text/plain": [
       "Id\n",
       "1       3\n",
       "2       3\n",
       "3       3\n",
       "4       3\n",
       "5       4\n",
       "       ..\n",
       "1456    3\n",
       "1457    3\n",
       "1458    4\n",
       "1459    2\n",
       "1460    3\n",
       "Name: BedroomAbvGr, Length: 1460, dtype: int64"
      ]
     },
     "execution_count": 110,
     "metadata": {},
     "output_type": "execute_result"
    }
   ],
   "source": [
    "feature  = 'BedroomAbvGr'\n",
    "Full_train[feature]"
   ]
  },
  {
   "cell_type": "code",
   "execution_count": 111,
   "metadata": {},
   "outputs": [
    {
     "data": {
      "text/plain": [
       "<AxesSubplot:xlabel='BedroomAbvGr', ylabel='SalePrice'>"
      ]
     },
     "execution_count": 111,
     "metadata": {},
     "output_type": "execute_result"
    },
    {
     "data": {
      "image/png": "[encoded data removed]",
      "text/plain": [
       "<Figure size 432x288 with 1 Axes>"
      ]
     },
     "metadata": {
      "needs_background": "light"
     },
     "output_type": "display_data"
    }
   ],
   "source": [
    "sns.scatterplot(x=Full_train[feature], y=y_full)"
   ]
  },
  {
   "cell_type": "markdown",
   "metadata": {},
   "source": [
    "## 2ndFlrSF"
   ]
  },
  {
   "cell_type": "code",
   "execution_count": 112,
   "metadata": {},
   "outputs": [
    {
     "data": {
      "text/plain": [
       "Id\n",
       "1        854\n",
       "2          0\n",
       "3        866\n",
       "4        756\n",
       "5       1053\n",
       "        ... \n",
       "1456     694\n",
       "1457       0\n",
       "1458    1152\n",
       "1459       0\n",
       "1460       0\n",
       "Name: 2ndFlrSF, Length: 1460, dtype: int64"
      ]
     },
     "execution_count": 112,
     "metadata": {},
     "output_type": "execute_result"
    }
   ],
   "source": [
    "feature = '2ndFlrSF'\n",
    "Full_train[feature]"
   ]
  },
  {
   "cell_type": "code",
   "execution_count": 115,
   "metadata": {},
   "outputs": [
    {
     "data": {
      "text/plain": [
       "<AxesSubplot:xlabel='2ndFlrSF', ylabel='SalePrice'>"
      ]
     },
     "execution_count": 115,
     "metadata": {},
     "output_type": "execute_result"
    },
    {
     "data": {
      "image/png": "[encoded data removed]",
      "text/plain": [
       "<Figure size 432x288 with 1 Axes>"
      ]
     },
     "metadata": {
      "needs_background": "light"
     },
     "output_type": "display_data"
    }
   ],
   "source": [
    "sns.scatterplot(x=Full_train[feature], y=y_full)"
   ]
  },
  {
   "cell_type": "code",
   "execution_count": 127,
   "metadata": {},
   "outputs": [
    {
     "data": {
      "text/plain": [
       "<AxesSubplot:xlabel='2ndFlrSF', ylabel='SalePrice'>"
      ]
     },
     "execution_count": 127,
     "metadata": {},
     "output_type": "execute_result"
    },
    {
     "data": {
      "image/png": "[encoded data removed]",
      "text/plain": [
       "<Figure size 432x288 with 1 Axes>"
      ]
     },
     "metadata": {
      "needs_background": "light"
     },
     "output_type": "display_data"
    }
   ],
   "source": [
    "sns.regplot(x=Full_train[feature], y=y_full)"
   ]
  },
  {
   "cell_type": "code",
   "execution_count": 125,
   "metadata": {},
   "outputs": [
    {
     "data": {
      "text/plain": [
       "<AxesSubplot:xlabel='2ndFlrSF', ylabel='SalePrice'>"
      ]
     },
     "execution_count": 125,
     "metadata": {},
     "output_type": "execute_result"
    },
    {
     "data": {
      "image/png": "[encoded data removed]",
      "text/plain": [
       "<Figure size 432x288 with 1 Axes>"
      ]
     },
     "metadata": {
      "needs_background": "light"
     },
     "output_type": "display_data"
    }
   ],
   "source": [
    "flr2_no0 = Full_train[feature].loc[Full_train[feature] != 0]\n",
    "sns.regplot(x=flr2_no0, y=y_full.loc[flr2_no0.index])"
   ]
  },
  {
   "cell_type": "code",
   "execution_count": 126,
   "metadata": {},
   "outputs": [
    {
     "data": {
      "text/plain": [
       "0.6733048324568377"
      ]
     },
     "execution_count": 126,
     "metadata": {},
     "output_type": "execute_result"
    }
   ],
   "source": [
    "flr2_no0.corr(y_full.loc[flr2_no0.index])"
   ]
  },
  {
   "cell_type": "markdown",
   "metadata": {},
   "source": [
    "If there is no 2 floor, then price depend on other features. But if the second floor exists, then there is some kind of linear relationship"
   ]
  },
  {
   "cell_type": "markdown",
   "metadata": {},
   "source": [
    "# Handling missed value\n",
    "But do I really need to handle it? Will correlation be increased if these features didnot have NaN, or, rather, was categorical"
   ]
  },
  {
   "cell_type": "code",
   "execution_count": 42,
   "metadata": {},
   "outputs": [],
   "source": [
    "missed_num_df = Full_train[missed_numeric_values].copy()"
   ]
  },
  {
   "cell_type": "code",
   "execution_count": 43,
   "metadata": {},
   "outputs": [
    {
     "data": {
      "text/plain": [
       "LotFrontage    259\n",
       "MasVnrArea       8\n",
       "GarageYrBlt     81\n",
       "dtype: int64"
      ]
     },
     "execution_count": 43,
     "metadata": {},
     "output_type": "execute_result"
    }
   ],
   "source": [
    "missed_num_df.isna().sum()"
   ]
  },
  {
   "cell_type": "markdown",
   "metadata": {},
   "source": [
    "GarageYrBlt - I will not use this feature, no need to do something with this column"
   ]
  },
  {
   "cell_type": "code",
   "execution_count": 47,
   "metadata": {},
   "outputs": [],
   "source": [
    "missed_num_df.drop(columns='GarageYrBlt', inplace=True)"
   ]
  },
  {
   "cell_type": "code",
   "execution_count": 48,
   "metadata": {},
   "outputs": [
    {
     "data": {
      "text/plain": [
       "LotFrontage    0.351799\n",
       "MasVnrArea     0.477493\n",
       "dtype: float64"
      ]
     },
     "execution_count": 48,
     "metadata": {},
     "output_type": "execute_result"
    }
   ],
   "source": [
    "missed_num_df.corrwith(Full_train['price'])"
   ]
  },
  {
   "cell_type": "code",
   "execution_count": 49,
   "metadata": {},
   "outputs": [
    {
     "data": {
      "text/html": [
       "<div>\n",
       "<style scoped>\n",
       "    .dataframe tbody tr th:only-of-type {\n",
       "        vertical-align: middle;\n",
       "    }\n",
       "\n",
       "    .dataframe tbody tr th {\n",
       "        vertical-align: top;\n",
       "    }\n",
       "\n",
       "    .dataframe thead th {\n",
       "        text-align: right;\n",
       "    }\n",
       "</style>\n",
       "<table border=\"1\" class=\"dataframe\">\n",
       "  <thead>\n",
       "    <tr style=\"text-align: right;\">\n",
       "      <th></th>\n",
       "      <th>LotFrontage</th>\n",
       "      <th>MasVnrArea</th>\n",
       "    </tr>\n",
       "    <tr>\n",
       "      <th>Id</th>\n",
       "      <th></th>\n",
       "      <th></th>\n",
       "    </tr>\n",
       "  </thead>\n",
       "  <tbody>\n",
       "    <tr>\n",
       "      <th>1</th>\n",
       "      <td>65.0</td>\n",
       "      <td>196.0</td>\n",
       "    </tr>\n",
       "    <tr>\n",
       "      <th>2</th>\n",
       "      <td>80.0</td>\n",
       "      <td>0.0</td>\n",
       "    </tr>\n",
       "    <tr>\n",
       "      <th>3</th>\n",
       "      <td>68.0</td>\n",
       "      <td>162.0</td>\n",
       "    </tr>\n",
       "    <tr>\n",
       "      <th>4</th>\n",
       "      <td>60.0</td>\n",
       "      <td>0.0</td>\n",
       "    </tr>\n",
       "    <tr>\n",
       "      <th>5</th>\n",
       "      <td>84.0</td>\n",
       "      <td>350.0</td>\n",
       "    </tr>\n",
       "    <tr>\n",
       "      <th>...</th>\n",
       "      <td>...</td>\n",
       "      <td>...</td>\n",
       "    </tr>\n",
       "    <tr>\n",
       "      <th>1456</th>\n",
       "      <td>62.0</td>\n",
       "      <td>0.0</td>\n",
       "    </tr>\n",
       "    <tr>\n",
       "      <th>1457</th>\n",
       "      <td>85.0</td>\n",
       "      <td>119.0</td>\n",
       "    </tr>\n",
       "    <tr>\n",
       "      <th>1458</th>\n",
       "      <td>66.0</td>\n",
       "      <td>0.0</td>\n",
       "    </tr>\n",
       "    <tr>\n",
       "      <th>1459</th>\n",
       "      <td>68.0</td>\n",
       "      <td>0.0</td>\n",
       "    </tr>\n",
       "    <tr>\n",
       "      <th>1460</th>\n",
       "      <td>75.0</td>\n",
       "      <td>0.0</td>\n",
       "    </tr>\n",
       "  </tbody>\n",
       "</table>\n",
       "<p>1460 rows × 2 columns</p>\n",
       "</div>"
      ],
      "text/plain": [
       "      LotFrontage  MasVnrArea\n",
       "Id                           \n",
       "1            65.0       196.0\n",
       "2            80.0         0.0\n",
       "3            68.0       162.0\n",
       "4            60.0         0.0\n",
       "5            84.0       350.0\n",
       "...           ...         ...\n",
       "1456         62.0         0.0\n",
       "1457         85.0       119.0\n",
       "1458         66.0         0.0\n",
       "1459         68.0         0.0\n",
       "1460         75.0         0.0\n",
       "\n",
       "[1460 rows x 2 columns]"
      ]
     },
     "execution_count": 49,
     "metadata": {},
     "output_type": "execute_result"
    }
   ],
   "source": [
    "missed_num_df"
   ]
  },
  {
   "cell_type": "code",
   "execution_count": 50,
   "metadata": {},
   "outputs": [
    {
     "data": {
      "text/plain": [
       "0.0      861\n",
       "108.0      8\n",
       "72.0       8\n",
       "180.0      8\n",
       "16.0       7\n",
       "        ... \n",
       "31.0       1\n",
       "366.0      1\n",
       "528.0      1\n",
       "894.0      1\n",
       "415.0      1\n",
       "Name: MasVnrArea, Length: 327, dtype: int64"
      ]
     },
     "execution_count": 50,
     "metadata": {},
     "output_type": "execute_result"
    }
   ],
   "source": [
    "missed_num_df['MasVnrArea'].value_counts()"
   ]
  },
  {
   "cell_type": "code",
   "execution_count": 51,
   "metadata": {},
   "outputs": [
    {
     "data": {
      "text/plain": [
       "0.5897260273972603"
      ]
     },
     "execution_count": 51,
     "metadata": {},
     "output_type": "execute_result"
    }
   ],
   "source": [
    "861/1460"
   ]
  },
  {
   "cell_type": "markdown",
   "metadata": {},
   "source": [
    "There is about 861 zeros, more that 50% of dataset contains non-meaningful information, and there is no even weak correlation, I doubt I can do something to increase correlation, so I drop it either"
   ]
  },
  {
   "cell_type": "code",
   "execution_count": 52,
   "metadata": {},
   "outputs": [],
   "source": [
    "missed_num_df.drop(columns='MasVnrArea', inplace=True)"
   ]
  },
  {
   "cell_type": "markdown",
   "metadata": {},
   "source": [
    "LotFrontage - I doubt I even need this feature ( Linear feet of street connected to property), so I dropping this as well"
   ]
  },
  {
   "cell_type": "markdown",
   "metadata": {},
   "source": [
    "as result - I do not use columns with missed values, so I do not need to somehow handle it"
   ]
  },
  {
   "cell_type": "code",
   "execution_count": null,
   "metadata": {},
   "outputs": [],
   "source": []
  },
  {
   "cell_type": "markdown",
   "metadata": {},
   "source": [
    "### Finding best features\n",
    "checking correlation and p-value for numeric features"
   ]
  },
  {
   "cell_type": "code",
   "execution_count": 94,
   "metadata": {},
   "outputs": [
    {
     "name": "stdout",
     "output_type": "stream",
     "text": [
      "MSSubClass (-0.0842841351265952, 0.0012664716847503312)\n",
      "LotFrontage (0.35179909657067787, 2.6024418123943414e-36)\n",
      "LotArea (0.2638433538714057, 1.1231391549193063e-24)\n",
      "OverallQual (0.7909816005838048, 2.185675268e-313)\n",
      "OverallCond (-0.07785589404867801, 0.0029123512679174826)\n",
      "YearBuilt (0.5228973328794968, 2.9902290990158995e-103)\n",
      "YearRemodAdd (0.5071009671113862, 3.1649482419200737e-96)\n",
      "MasVnrArea (0.47749304709571555, 1.458508642588133e-83)\n",
      "BsmtFinSF1 (0.3864198062421533, 3.3941098292907553e-53)\n",
      "BsmtFinSF2 (-0.011378121450215144, 0.663998650834577)\n",
      "BsmtUnfSF (0.2144791055469689, 1.1829757963600795e-16)\n",
      "TotalBsmtSF (0.6135805515591954, 9.484229391507914e-152)\n",
      "1stFlrSF (0.6058521846919146, 5.394710618971284e-147)\n",
      "2ndFlrSF (0.31933380283206786, 5.764335119183061e-36)\n",
      "LowQualFinSF (-0.02560613000067956, 0.32820730984074886)\n",
      "GrLivArea (0.708624477612652, 4.518033646780971e-223)\n",
      "BsmtFullBath (0.22712223313149424, 1.550344137214128e-18)\n",
      "BsmtHalfBath (-0.016844154297359012, 0.5201536357280931)\n",
      "FullBath (0.560663762748446, 1.2364700667605807e-121)\n",
      "HalfBath (0.28410767559478256, 1.6504733955727557e-28)\n",
      "BedroomAbvGr (0.16821315430073996, 9.927497326187329e-11)\n",
      "KitchenAbvGr (-0.13590737084214122, 1.8604260320766925e-07)\n",
      "TotRmsAbvGrd (0.5337231555820281, 2.772280932958432e-108)\n",
      "Fireplaces (0.46692883675152774, 6.141487461119927e-80)\n",
      "GarageYrBlt (0.48636167748786086, 8.705127942145683e-83)\n",
      "GarageCars (0.640409197258352, 2.498644167178942e-169)\n",
      "GarageArea (0.6234314389183616, 5.2650381679802e-158)\n",
      "WoodDeckSF (0.3244134445681299, 3.972216535629994e-37)\n",
      "OpenPorchSF (0.3158562271160553, 3.493373623097777e-35)\n",
      "EnclosedPorch (-0.12857795792595675, 8.255770475119532e-07)\n",
      "3SsnPorch (0.04458366533574841, 0.08858170358062883)\n",
      "ScreenPorch (0.1114465711429112, 1.9721400194702135e-05)\n",
      "PoolArea (0.09240354949187321, 0.0004073489601199127)\n",
      "MiscVal (-0.021189579640303262, 0.4184863494082891)\n"
     ]
    }
   ],
   "source": [
    "F_P = {}\n",
    "for feature in numeric_col:\n",
    "    y = pd.Series(Full_train['price'], index=Full_train[feature].dropna().index)\n",
    "    pearson_coef, p_value = stats.pearsonr(Full_train[feature].dropna(),y)\n",
    "    #if (abs(pearson_coef) > 0.5):\n",
    "    F_P[feature] = (pearson_coef, p_value)\n",
    "    #print('Feature:',feature)\n",
    "    #print('The correlation coefficient is:', pearson_coef, 'the p-value is:', p_value)\n",
    "for k in F_P:\n",
    "    print(k, F_P[k])"
   ]
  },
  {
   "cell_type": "code",
   "execution_count": 96,
   "metadata": {},
   "outputs": [
    {
     "name": "stdout",
     "output_type": "stream",
     "text": [
      "OverallQual (0.7909816005838048, 2.185675268e-313)\n",
      "YearBuilt (0.5228973328794968, 2.9902290990158995e-103)\n",
      "YearRemodAdd (0.5071009671113862, 3.1649482419200737e-96)\n",
      "TotalBsmtSF (0.6135805515591954, 9.484229391507914e-152)\n",
      "1stFlrSF (0.6058521846919146, 5.394710618971284e-147)\n",
      "GrLivArea (0.708624477612652, 4.518033646780971e-223)\n",
      "FullBath (0.560663762748446, 1.2364700667605807e-121)\n",
      "TotRmsAbvGrd (0.5337231555820281, 2.772280932958432e-108)\n",
      "GarageCars (0.640409197258352, 2.498644167178942e-169)\n",
      "GarageArea (0.6234314389183616, 5.2650381679802e-158)\n"
     ]
    }
   ],
   "source": [
    "for k in F_P:\n",
    "    if F_P[k][0] > 0.5:\n",
    "        print(k, F_P[k])"
   ]
  },
  {
   "cell_type": "code",
   "execution_count": 98,
   "metadata": {},
   "outputs": [
    {
     "name": "stdout",
     "output_type": "stream",
     "text": [
      "MSSubClass (-0.0842841351265952, 0.0012664716847503312)\n",
      "LotFrontage (0.35179909657067787, 2.6024418123943414e-36)\n",
      "LotArea (0.2638433538714057, 1.1231391549193063e-24)\n",
      "OverallQual (0.7909816005838048, 2.185675268e-313)\n",
      "OverallCond (-0.07785589404867801, 0.0029123512679174826)\n",
      "YearBuilt (0.5228973328794968, 2.9902290990158995e-103)\n",
      "YearRemodAdd (0.5071009671113862, 3.1649482419200737e-96)\n",
      "MasVnrArea (0.47749304709571555, 1.458508642588133e-83)\n",
      "BsmtFinSF1 (0.3864198062421533, 3.3941098292907553e-53)\n",
      "BsmtUnfSF (0.2144791055469689, 1.1829757963600795e-16)\n",
      "TotalBsmtSF (0.6135805515591954, 9.484229391507914e-152)\n",
      "1stFlrSF (0.6058521846919146, 5.394710618971284e-147)\n",
      "2ndFlrSF (0.31933380283206786, 5.764335119183061e-36)\n",
      "GrLivArea (0.708624477612652, 4.518033646780971e-223)\n",
      "BsmtFullBath (0.22712223313149424, 1.550344137214128e-18)\n",
      "FullBath (0.560663762748446, 1.2364700667605807e-121)\n",
      "HalfBath (0.28410767559478256, 1.6504733955727557e-28)\n",
      "BedroomAbvGr (0.16821315430073996, 9.927497326187329e-11)\n",
      "KitchenAbvGr (-0.13590737084214122, 1.8604260320766925e-07)\n",
      "TotRmsAbvGrd (0.5337231555820281, 2.772280932958432e-108)\n",
      "Fireplaces (0.46692883675152774, 6.141487461119927e-80)\n",
      "GarageYrBlt (0.48636167748786086, 8.705127942145683e-83)\n",
      "GarageCars (0.640409197258352, 2.498644167178942e-169)\n",
      "GarageArea (0.6234314389183616, 5.2650381679802e-158)\n",
      "WoodDeckSF (0.3244134445681299, 3.972216535629994e-37)\n",
      "OpenPorchSF (0.3158562271160553, 3.493373623097777e-35)\n",
      "EnclosedPorch (-0.12857795792595675, 8.255770475119532e-07)\n",
      "ScreenPorch (0.1114465711429112, 1.9721400194702135e-05)\n",
      "PoolArea (0.09240354949187321, 0.0004073489601199127)\n"
     ]
    }
   ],
   "source": [
    "for k in F_P:\n",
    "    if F_P[k][1] < 0.05:\n",
    "        print(k, F_P[k])"
   ]
  },
  {
   "cell_type": "markdown",
   "metadata": {},
   "source": [
    "We can see, that the only meaningfull values are same that in good_correlation. But there is some features that wee can add to see how it will influence on SalesPrice.(Having fireplace, Pool, 2nd floor etc.)"
   ]
  },
  {
   "cell_type": "markdown",
   "metadata": {},
   "source": [
    "#### Creating new features\n",
    "We can try to create new features and see, how it will work out"
   ]
  },
  {
   "cell_type": "code",
   "execution_count": 43,
   "metadata": {},
   "outputs": [],
   "source": [
    "porch = ['EnclosedPorch', 'OpenPorchSF','3SsnPorch','ScreenPorch']\n",
    "BSM_bath = ['BsmtFullBath', 'BsmtHalfBath']\n",
    "bath = ['FullBath', 'HalfBath']"
   ]
  },
  {
   "cell_type": "code",
   "execution_count": 44,
   "metadata": {},
   "outputs": [
    {
     "name": "stdout",
     "output_type": "stream",
     "text": [
      "LotArea\n",
      "MasVnrArea\n",
      "GrLivArea\n",
      "GarageArea\n",
      "PoolArea\n"
     ]
    }
   ],
   "source": [
    "for col in Full_train.columns:\n",
    "    if 'area' in str.lower(col):\n",
    "        print(col)"
   ]
  },
  {
   "cell_type": "code",
   "execution_count": 45,
   "metadata": {},
   "outputs": [],
   "source": [
    "areas = ['LotArea', 'MasVnrArea', 'GrLivArea','GarageArea','PoolArea']"
   ]
  },
  {
   "cell_type": "code",
   "execution_count": 46,
   "metadata": {},
   "outputs": [
    {
     "ename": "NameError",
     "evalue": "name 'price_corr' is not defined",
     "output_type": "error",
     "traceback": [
      "\u001b[0;31m---------------------------------------------------------------------------\u001b[0m",
      "\u001b[0;31mNameError\u001b[0m                                 Traceback (most recent call last)",
      "\u001b[0;32m<ipython-input-46-bca46febaa21>\u001b[0m in \u001b[0;36m<module>\u001b[0;34m\u001b[0m\n\u001b[0;32m----> 1\u001b[0;31m \u001b[0mselected_features_df\u001b[0m \u001b[0;34m=\u001b[0m \u001b[0mFull_train\u001b[0m\u001b[0;34m[\u001b[0m\u001b[0mprice_corr\u001b[0m\u001b[0;34m.\u001b[0m\u001b[0mindex\u001b[0m\u001b[0;34m]\u001b[0m\u001b[0;34m.\u001b[0m\u001b[0mcopy\u001b[0m\u001b[0;34m(\u001b[0m\u001b[0mdeep\u001b[0m\u001b[0;34m=\u001b[0m\u001b[0;32mTrue\u001b[0m\u001b[0;34m)\u001b[0m\u001b[0;34m\u001b[0m\u001b[0;34m\u001b[0m\u001b[0m\n\u001b[0m\u001b[1;32m      2\u001b[0m \u001b[0mselected_features_df\u001b[0m\u001b[0;34m[\u001b[0m\u001b[0;34m'Has_pool'\u001b[0m\u001b[0;34m]\u001b[0m \u001b[0;34m=\u001b[0m \u001b[0mFull_train\u001b[0m\u001b[0;34m[\u001b[0m\u001b[0;34m'PoolArea'\u001b[0m\u001b[0;34m]\u001b[0m \u001b[0;34m>\u001b[0m \u001b[0;36m0\u001b[0m\u001b[0;34m\u001b[0m\u001b[0;34m\u001b[0m\u001b[0m\n\u001b[1;32m      3\u001b[0m \u001b[0mselected_features_df\u001b[0m\u001b[0;34m[\u001b[0m\u001b[0;34m'Has_fireplace'\u001b[0m\u001b[0;34m]\u001b[0m \u001b[0;34m=\u001b[0m \u001b[0mFull_train\u001b[0m\u001b[0;34m[\u001b[0m\u001b[0;34m'Fireplaces'\u001b[0m\u001b[0;34m]\u001b[0m \u001b[0;34m>\u001b[0m \u001b[0;36m0\u001b[0m\u001b[0;34m\u001b[0m\u001b[0;34m\u001b[0m\u001b[0m\n\u001b[1;32m      4\u001b[0m \u001b[0mselected_features_df\u001b[0m\u001b[0;34m[\u001b[0m\u001b[0;34m'Total_porch'\u001b[0m\u001b[0;34m]\u001b[0m \u001b[0;34m=\u001b[0m \u001b[0mFull_train\u001b[0m\u001b[0;34m[\u001b[0m\u001b[0mporch\u001b[0m\u001b[0;34m]\u001b[0m\u001b[0;34m.\u001b[0m\u001b[0msum\u001b[0m\u001b[0;34m(\u001b[0m\u001b[0maxis\u001b[0m\u001b[0;34m=\u001b[0m\u001b[0;36m1\u001b[0m\u001b[0;34m)\u001b[0m\u001b[0;34m\u001b[0m\u001b[0;34m\u001b[0m\u001b[0m\n\u001b[1;32m      5\u001b[0m \u001b[0mselected_features_df\u001b[0m\u001b[0;34m[\u001b[0m\u001b[0;34m'Total_BSM_bath'\u001b[0m\u001b[0;34m]\u001b[0m \u001b[0;34m=\u001b[0m \u001b[0mFull_train\u001b[0m\u001b[0;34m[\u001b[0m\u001b[0mBSM_bath\u001b[0m\u001b[0;34m]\u001b[0m\u001b[0;34m.\u001b[0m\u001b[0msum\u001b[0m\u001b[0;34m(\u001b[0m\u001b[0maxis\u001b[0m\u001b[0;34m=\u001b[0m\u001b[0;36m1\u001b[0m\u001b[0;34m)\u001b[0m\u001b[0;34m\u001b[0m\u001b[0;34m\u001b[0m\u001b[0m\n",
      "\u001b[0;31mNameError\u001b[0m: name 'price_corr' is not defined"
     ]
    }
   ],
   "source": [
    "selected_features_df = Full_train[price_corr.index].copy(deep=True)\n",
    "selected_features_df['Has_pool'] = Full_train['PoolArea'] > 0\n",
    "selected_features_df['Has_fireplace'] = Full_train['Fireplaces'] > 0\n",
    "selected_features_df['Total_porch'] = Full_train[porch].sum(axis=1)\n",
    "selected_features_df['Total_BSM_bath'] = Full_train[BSM_bath].sum(axis=1)\n",
    "selected_features_df['Has_2flr'] = Full_train['2ndFlrSF'] > 0\n",
    "selected_features_df['Total_Bath'] = Full_train[bath].sum(axis=1)\n",
    "selected_features_df['Has_garage'] = Full_train['GarageArea'] > 0\n",
    "selected_features_df['Total_area'] = Full_train[areas].sum(axis=1)\n",
    "selected_features_df"
   ]
  },
  {
   "cell_type": "code",
   "execution_count": null,
   "metadata": {},
   "outputs": [],
   "source": [
    "bools = ['Has_pool', 'Has_fireplace', 'Has_2flr', 'Has_garage']"
   ]
  },
  {
   "cell_type": "code",
   "execution_count": null,
   "metadata": {},
   "outputs": [],
   "source": [
    "selected_features_df[bools] = selected_features_df[bools].astype(int)\n",
    "selected_features_df.dtypes"
   ]
  },
  {
   "cell_type": "code",
   "execution_count": null,
   "metadata": {},
   "outputs": [],
   "source": []
  },
  {
   "cell_type": "code",
   "execution_count": null,
   "metadata": {},
   "outputs": [],
   "source": [
    "new_added_cols = [col for col in selected_features_df.columns\n",
    "                 if col not in Full_train.columns]\n",
    "print(new_added_cols)"
   ]
  },
  {
   "cell_type": "markdown",
   "metadata": {},
   "source": [
    "Now lets repeat process with correaltion and p_value"
   ]
  },
  {
   "cell_type": "code",
   "execution_count": null,
   "metadata": {},
   "outputs": [],
   "source": [
    "for feature in new_added_cols:\n",
    "    pearson_coef, p_value = stats.pearsonr(selected_features_df[feature],y_full)\n",
    "    #if (abs(pearson_coef) > 0.5):\n",
    "    print('Feature:',feature)\n",
    "    print('The correlation coefficient is:', pearson_coef, 'the p-value is:', p_value)"
   ]
  },
  {
   "cell_type": "markdown",
   "metadata": {},
   "source": [
    "Total_Bath is new feature that worth attention\n",
    "(probably it is not linear)"
   ]
  },
  {
   "cell_type": "code",
   "execution_count": null,
   "metadata": {},
   "outputs": [],
   "source": [
    "sns.boxplot(x='Total_Bath', y='SalePrice', data=selected_features_df)"
   ]
  },
  {
   "cell_type": "code",
   "execution_count": null,
   "metadata": {},
   "outputs": [],
   "source": [
    "sns.regplot(x='Total_Bath', y='SalePrice', data=selected_features_df, order=3)"
   ]
  },
  {
   "cell_type": "code",
   "execution_count": null,
   "metadata": {},
   "outputs": [],
   "source": []
  },
  {
   "cell_type": "code",
   "execution_count": null,
   "metadata": {},
   "outputs": [],
   "source": [
    "features_num_good_corr = list(price_corr.sort_values(ascending=False).index)\n",
    "features_num_good_corr += ['Total_Bath']\n",
    "features_num_good_corr = features_num_good_corr[1:] # remove SalePrice\n",
    "print(features_num_good_corr[1:])"
   ]
  },
  {
   "cell_type": "code",
   "execution_count": null,
   "metadata": {},
   "outputs": [],
   "source": [
    "price_corr.sort_values(ascending=False)"
   ]
  },
  {
   "cell_type": "markdown",
   "metadata": {},
   "source": [
    "## low_cardinality features"
   ]
  },
  {
   "cell_type": "code",
   "execution_count": null,
   "metadata": {},
   "outputs": [],
   "source": [
    "low_cardinality_df = Full_train[low_categorical_col]\n",
    "low_cardinality_df"
   ]
  },
  {
   "cell_type": "code",
   "execution_count": null,
   "metadata": {},
   "outputs": [],
   "source": [
    "low_cardinality_df.isna().sum()[low_cardinality_df.isna().sum() > 0]"
   ]
  },
  {
   "cell_type": "markdown",
   "metadata": {},
   "source": [
    "I will return to handling nans later, for now I will drop it"
   ]
  },
  {
   "cell_type": "code",
   "execution_count": null,
   "metadata": {},
   "outputs": [],
   "source": [
    "low_cardinality_cols_with_nans = list(low_cardinality_df.isna().sum()[low_cardinality_df.isna().sum() > 0].index)"
   ]
  },
  {
   "cell_type": "code",
   "execution_count": null,
   "metadata": {},
   "outputs": [],
   "source": [
    "without_nan_df = low_cardinality_df.dropna(axis=1)\n",
    "without_nan_df"
   ]
  },
  {
   "cell_type": "code",
   "execution_count": null,
   "metadata": {},
   "outputs": [],
   "source": [
    "without_nan_df.describe(include=['object'])"
   ]
  },
  {
   "cell_type": "code",
   "execution_count": null,
   "metadata": {},
   "outputs": [],
   "source": [
    "without_nan_df = without_nan_df.join(y_full)"
   ]
  },
  {
   "cell_type": "markdown",
   "metadata": {},
   "source": [
    "### Find significant categorical features\n",
    "but first declare some valuable functions"
   ]
  },
  {
   "cell_type": "markdown",
   "metadata": {},
   "source": [
    "# Do I need it?"
   ]
  },
  {
   "cell_type": "code",
   "execution_count": null,
   "metadata": {},
   "outputs": [],
   "source": [
    "def get_dic_name_need_change():\n",
    "    dic = {}\n",
    "    y = find_n_percent_of_data(Full_train.shape[0], 5)\n",
    "    for col_info in cols_with_big_F_score+cols_with_low_F_score:\n",
    "        col_name = col_info[0]\n",
    "        values_less_then_y = Full_train[col_name].value_counts() < y    \n",
    "        values = []\n",
    "        for i in range(1,len(values_less_then_y)):\n",
    "            group_value_counts = values_less_then_y.iloc[-i]\n",
    "            if group_value_counts:\n",
    "                group_value = values_less_then_y.index[-i]\n",
    "                values.append(group_value)\n",
    "\n",
    "        if len(values) > 0:\n",
    "            dic[values_less_then_y.name] = values\n",
    "    return dic"
   ]
  },
  {
   "cell_type": "markdown",
   "metadata": {},
   "source": [
    "Func, that score ANOVA for specific dataframe"
   ]
  },
  {
   "cell_type": "code",
   "execution_count": null,
   "metadata": {},
   "outputs": [],
   "source": [
    "def score_ANOVA(data):\n",
    "    '''\n",
    "    score ANOVA for all columns in data. Last column must be SalePrice - this is the exit point.\n",
    "    return 3 lists:\n",
    "    cols_that_need_further_investigation - ANOVA <=10;\n",
    "    cols_with_big_F_score - ANOVA > 50\n",
    "    cols_with_low_F_score - ANOVA <= 50\n",
    "    '''\n",
    "    cols_that_need_further_investigation = []\n",
    "    cols_with_big_F_score = []\n",
    "    cols_with_low_F_score = []\n",
    "    \n",
    "    for col in data.columns:\n",
    "        if col == 'SalePrice':\n",
    "            break\n",
    "        df = data[[col,'SalePrice']]\n",
    "        grouped_col_price = df.groupby([col],as_index=False)\n",
    "        uniques_col_values = df[col].unique()\n",
    "        if len(uniques_col_values) == 1:\n",
    "            print(f'cols has only one value! ({col})')\n",
    "            continue\n",
    "        args = [grouped_col_price.get_group(uniques_col_values[i])['SalePrice'] for i in range(len(uniques_col_values))]\n",
    "        f_val, p_val = stats.f_oneway(*args)\n",
    "        #print('column name: ',col)\n",
    "        #print( \"ANOVA results: F=\", f_val, \", P =\", p_val)  \n",
    "        if (f_val <=10):\n",
    "            cols_that_need_further_investigation.append([col, f_val, p_val])\n",
    "        elif (f_val > 50):\n",
    "            cols_with_big_F_score.append([col, f_val, p_val])\n",
    "        else:\n",
    "            cols_with_low_F_score.append([col, f_val, p_val])\n",
    "    cols_that_need_further_investigation.sort(key=lambda x:x[1], reverse=True)\n",
    "    cols_with_big_F_score.sort(key=lambda x:x[1], reverse=True)\n",
    "    cols_with_low_F_score.sort(key=lambda x:x[1], reverse=True)\n",
    "    return cols_that_need_further_investigation, cols_with_big_F_score, cols_with_low_F_score"
   ]
  },
  {
   "cell_type": "markdown",
   "metadata": {},
   "source": [
    "Func that creating boxplot on giving data and columns"
   ]
  },
  {
   "cell_type": "code",
   "execution_count": null,
   "metadata": {},
   "outputs": [],
   "source": [
    "# column_info is list contains [col_name, f_val, p_val]\n",
    "def make_boxplots(column_info, data, subplot_size=[4,4,1]):\n",
    "    r = subplot_size[0]\n",
    "    c = subplot_size[1]\n",
    "    i = subplot_size[2]\n",
    "    plt.figure(figsize=(20,20))\n",
    "    for col in column_info:\n",
    "        #plt.figure()\n",
    "        plt.subplot(r,c,i)\n",
    "        i+=1\n",
    "        sns.boxplot(data=data, y=y_full, x=col[0])"
   ]
  },
  {
   "cell_type": "code",
   "execution_count": null,
   "metadata": {},
   "outputs": [],
   "source": [
    "def find_n_percent_of_data(total_rows, n=5):\n",
    "    '''\n",
    "    total_rows => 100%\n",
    "     y => n%\n",
    "     we know n(5%, for example), so we find y on this formula:\n",
    "     y = n*total_rows/100\n",
    "    ''' \n",
    "    return n * total_rows / 100"
   ]
  },
  {
   "cell_type": "markdown",
   "metadata": {},
   "source": [
    "Dist plot will be plotted with red line, where red line shows 5% of data"
   ]
  },
  {
   "cell_type": "code",
   "execution_count": null,
   "metadata": {},
   "outputs": [],
   "source": [
    "def make_dist(data, col_info_list):\n",
    "    y = find_n_percent_of_data(data.shape[0],5)\n",
    "    i = 1\n",
    "    plt.figure(figsize=(20,20))\n",
    "    for col_info in col_info_list:\n",
    "        col_name = col_info[0]\n",
    "        #plt.figure()\n",
    "        plt.subplot(4,5,i)\n",
    "        i += 1\n",
    "        sns.histplot(data[col_name])\n",
    "        plt.xticks(rotation=45)\n",
    "        plt.axhline(y,color='r')"
   ]
  },
  {
   "cell_type": "markdown",
   "metadata": {},
   "source": [
    "### applying ANOVA method"
   ]
  },
  {
   "cell_type": "code",
   "execution_count": null,
   "metadata": {},
   "outputs": [],
   "source": [
    "cols_that_need_further_investigation, cols_with_big_F_score, cols_with_low_F_score = score_ANOVA(without_nan_df)"
   ]
  },
  {
   "cell_type": "code",
   "execution_count": null,
   "metadata": {},
   "outputs": [],
   "source": [
    "cols_that_need_further_investigation"
   ]
  },
  {
   "cell_type": "code",
   "execution_count": null,
   "metadata": {},
   "outputs": [],
   "source": [
    "make_boxplots(cols_that_need_further_investigation,data=without_nan_df)"
   ]
  },
  {
   "cell_type": "markdown",
   "metadata": {},
   "source": [
    "It is clearly seen that these columns will be bad at predicting house price"
   ]
  },
  {
   "cell_type": "code",
   "execution_count": null,
   "metadata": {},
   "outputs": [],
   "source": [
    "all_rows = Full_train.shape[0] \n",
    "for col_info in cols_that_need_further_investigation:\n",
    "    # get value_counts in percentage\n",
    "    col_name = col_info[0]\n",
    "    print(Full_train[col_name].value_counts() / all_rows * 100)"
   ]
  },
  {
   "cell_type": "markdown",
   "metadata": {},
   "source": [
    "As we can see, very big percentage of data has one value, therefore these variables are no use"
   ]
  },
  {
   "cell_type": "markdown",
   "metadata": {},
   "source": [
    " #### Double check ExterCond and LotConfig\n",
    "These groups doe not have enough samples for  different groups, so they are no use, but it is better to double check ExterCond and LotConfig, just to be sure"
   ]
  },
  {
   "cell_type": "markdown",
   "metadata": {},
   "source": [
    "##### ExterCond"
   ]
  },
  {
   "cell_type": "code",
   "execution_count": null,
   "metadata": {},
   "outputs": [],
   "source": [
    "invest_df = Full_train[['ExterCond', 'LotConfig', 'SalePrice']]\n",
    "group = invest_df.groupby(['ExterCond', 'LotConfig'],as_index=False).mean()\n",
    "pivot = group.pivot(columns='ExterCond', index='LotConfig')\n",
    "pivot\n",
    "#f_score, p_val = stats.f_oneway()"
   ]
  },
  {
   "cell_type": "code",
   "execution_count": null,
   "metadata": {},
   "outputs": [],
   "source": [
    "sns.heatmap(pivot.fillna(0))"
   ]
  },
  {
   "cell_type": "markdown",
   "metadata": {},
   "source": [
    "Fa, Gd, Ta - There is no big difference between Fa and Gd. However, Ta is valued more. I believe there is no significant statisctical difference, So I will not use this column"
   ]
  },
  {
   "cell_type": "code",
   "execution_count": null,
   "metadata": {},
   "outputs": [],
   "source": [
    "invest_df['ExterCond'].value_counts()"
   ]
  },
  {
   "cell_type": "markdown",
   "metadata": {},
   "source": [
    "It is clear, that Po and Ex are outliers"
   ]
  },
  {
   "cell_type": "code",
   "execution_count": null,
   "metadata": {},
   "outputs": [],
   "source": [
    "group = invest_df.groupby(['ExterCond'],as_index=False)\n",
    "group.mean()"
   ]
  },
  {
   "cell_type": "code",
   "execution_count": null,
   "metadata": {},
   "outputs": [],
   "source": [
    "stats.f_oneway(group.get_group('Ex')['SalePrice'], group.get_group('Fa')['SalePrice'], group.get_group('Gd')['SalePrice'])"
   ]
  },
  {
   "cell_type": "markdown",
   "metadata": {},
   "source": [
    "Comparing previous result (ANOVA results: F= 8.798714214177485 , P = 5.106680608671862e-07), this is barely better. I decide to not use this columns as predicator"
   ]
  },
  {
   "cell_type": "markdown",
   "metadata": {},
   "source": [
    "#### LotConfig"
   ]
  },
  {
   "cell_type": "code",
   "execution_count": null,
   "metadata": {},
   "outputs": [],
   "source": [
    "invest_df['LotConfig'].value_counts()"
   ]
  },
  {
   "cell_type": "code",
   "execution_count": null,
   "metadata": {},
   "outputs": [],
   "source": [
    "group = invest_df.groupby(['LotConfig'],as_index=False)\n",
    "group.mean()"
   ]
  },
  {
   "cell_type": "code",
   "execution_count": null,
   "metadata": {},
   "outputs": [],
   "source": [
    "stats.f_oneway(group.get_group('Corner')['SalePrice'], group.get_group('Inside')['SalePrice'], group.get_group('CulDSac')['SalePrice'])"
   ]
  },
  {
   "cell_type": "markdown",
   "metadata": {},
   "source": [
    "Comparing to the previous result (ANOVA results: F= 7.809954123467792 , P = 3.163167473604189e-06), thia ia barely better. However, it is not good enougfh, So, there is no need in picking this column"
   ]
  },
  {
   "cell_type": "markdown",
   "metadata": {},
   "source": [
    "### Checking cols with good enough F_value"
   ]
  },
  {
   "cell_type": "code",
   "execution_count": null,
   "metadata": {},
   "outputs": [],
   "source": [
    "cols_with_big_F_score"
   ]
  },
  {
   "cell_type": "code",
   "execution_count": null,
   "metadata": {},
   "outputs": [],
   "source": [
    "make_boxplots(cols_with_big_F_score, without_nan_df)"
   ]
  },
  {
   "cell_type": "code",
   "execution_count": null,
   "metadata": {},
   "outputs": [],
   "source": [
    "without_nan_df['HeatingQC'].value_counts()"
   ]
  },
  {
   "cell_type": "markdown",
   "metadata": {},
   "source": [
    "These columns are probably very good predicators, but need to pay attention HeatingQC: It is only one example of Po! It is not enough"
   ]
  },
  {
   "cell_type": "code",
   "execution_count": null,
   "metadata": {},
   "outputs": [],
   "source": [
    "cols_with_big_F_score"
   ]
  },
  {
   "cell_type": "code",
   "execution_count": null,
   "metadata": {},
   "outputs": [],
   "source": [
    "cols_with_big_F_score"
   ]
  },
  {
   "cell_type": "code",
   "execution_count": null,
   "metadata": {},
   "outputs": [],
   "source": [
    "make_dist(without_nan_df,cols_with_big_F_score)"
   ]
  },
  {
   "cell_type": "code",
   "execution_count": null,
   "metadata": {},
   "outputs": [],
   "source": [
    "cols_with_low_F_score"
   ]
  },
  {
   "cell_type": "code",
   "execution_count": null,
   "metadata": {},
   "outputs": [],
   "source": [
    "make_boxplots(cols_with_low_F_score, without_nan_df)"
   ]
  },
  {
   "cell_type": "code",
   "execution_count": null,
   "metadata": {},
   "outputs": [],
   "source": [
    "make_dist(without_nan_df,cols_with_low_F_score)"
   ]
  },
  {
   "cell_type": "code",
   "execution_count": null,
   "metadata": {},
   "outputs": [],
   "source": [
    "for col_info in cols_with_big_F_score+cols_with_low_F_score:\n",
    "    # get value_counts in percentage\n",
    "    col_name = col_info[0]\n",
    "    print(without_nan_df[col_name].value_counts() / len(without_nan_df) * 100)\n",
    "    print()"
   ]
  },
  {
   "cell_type": "markdown",
   "metadata": {},
   "source": [
    "CentralAir Has good F_score, but more then 90% of data contains same value. Does the house price really differ from this variable?\n",
    "(also need to check SaleCondition(80%), MSZoning(78%),PavedDrive(91%), SaleType(86%), RoofStyle(78%), BldgType(83%), LandContour(89%))"
   ]
  },
  {
   "cell_type": "code",
   "execution_count": null,
   "metadata": {},
   "outputs": [],
   "source": [
    "cols_to_investigate = ['CentralAir', 'SaleCondition','MSZoning','PavedDrive','SaleType','RoofStyle','BldgType','LandContour']"
   ]
  },
  {
   "cell_type": "code",
   "execution_count": null,
   "metadata": {},
   "outputs": [],
   "source": [
    "invest_df = Full_train[cols_to_investigate+['SalePrice']]\n",
    "invest_df"
   ]
  },
  {
   "cell_type": "code",
   "execution_count": null,
   "metadata": {},
   "outputs": [],
   "source": [
    "group = invest_df.groupby(['CentralAir'], as_index=False).mean()\n",
    "group.head()"
   ]
  },
  {
   "cell_type": "markdown",
   "metadata": {},
   "source": [
    "We can conclude, that price have big differnece depend on CentralAir!"
   ]
  },
  {
   "cell_type": "code",
   "execution_count": null,
   "metadata": {},
   "outputs": [],
   "source": [
    "for col in cols_to_investigate:\n",
    "    group = invest_df.groupby([col], as_index=False).mean()\n",
    "    print(group.head())\n",
    "    print()"
   ]
  },
  {
   "cell_type": "markdown",
   "metadata": {},
   "source": [
    "We can conclude, that different groups have different price, so these are probably good features"
   ]
  },
  {
   "cell_type": "code",
   "execution_count": null,
   "metadata": {},
   "outputs": [],
   "source": []
  },
  {
   "cell_type": "markdown",
   "metadata": {},
   "source": [
    "also, we can get dic with column names and column values, that contains less then 5% of data"
   ]
  },
  {
   "cell_type": "code",
   "execution_count": null,
   "metadata": {},
   "outputs": [],
   "source": [
    "dic = get_dic_name_need_change()\n",
    "dic"
   ]
  },
  {
   "cell_type": "markdown",
   "metadata": {},
   "source": [
    "I need to be accurate with columns that listed above, they have values less than 5% of the entire column"
   ]
  },
  {
   "cell_type": "code",
   "execution_count": null,
   "metadata": {},
   "outputs": [],
   "source": [
    "features_cat_no_nan_very_good = [col[0] for col in cols_with_big_F_score]\n",
    "print(features_cat_no_nan_very_good)"
   ]
  },
  {
   "cell_type": "code",
   "execution_count": null,
   "metadata": {},
   "outputs": [],
   "source": [
    "cols_with_big_F_score"
   ]
  },
  {
   "cell_type": "code",
   "execution_count": null,
   "metadata": {},
   "outputs": [],
   "source": [
    "features_cat_no_nan_maybe_good = [col[0] for col in cols_with_low_F_score]\n",
    "print(features_cat_no_nan_maybe_good)"
   ]
  },
  {
   "cell_type": "code",
   "execution_count": null,
   "metadata": {},
   "outputs": [],
   "source": [
    "cols_with_low_F_score"
   ]
  },
  {
   "cell_type": "markdown",
   "metadata": {},
   "source": [
    "### Handling cat features contains NaN"
   ]
  },
  {
   "cell_type": "code",
   "execution_count": null,
   "metadata": {},
   "outputs": [],
   "source": [
    "df_with_nan = Full_train[low_cardinality_cols_with_nans].copy(deep=True)\n",
    "df_with_nan = df_with_nan.join(y_full)\n",
    "df_with_nan"
   ]
  },
  {
   "cell_type": "code",
   "execution_count": null,
   "metadata": {},
   "outputs": [],
   "source": [
    "df_with_nan.isna().sum()[df_with_nan.isna().sum() > 0]"
   ]
  },
  {
   "cell_type": "code",
   "execution_count": null,
   "metadata": {},
   "outputs": [],
   "source": [
    "Full_train['PoolArea'].value_counts()"
   ]
  },
  {
   "cell_type": "markdown",
   "metadata": {},
   "source": [
    "It seems that pool features are zero or Nan if No Pool, everything matches."
   ]
  },
  {
   "cell_type": "code",
   "execution_count": null,
   "metadata": {},
   "outputs": [],
   "source": [
    "Full_train['Electrical'].value_counts()"
   ]
  },
  {
   "cell_type": "markdown",
   "metadata": {},
   "source": [
    "It seems that Electrical have missed value, so it is better to drop this row"
   ]
  },
  {
   "cell_type": "code",
   "execution_count": null,
   "metadata": {},
   "outputs": [],
   "source": [
    "indicies_elec = Full_train['Electrical'].isna()[Full_train['Electrical'].isna()].index\n",
    "indicies_elec"
   ]
  },
  {
   "cell_type": "code",
   "execution_count": null,
   "metadata": {},
   "outputs": [],
   "source": [
    "Full_train['MasVnrType'].value_counts()"
   ]
  },
  {
   "cell_type": "markdown",
   "metadata": {},
   "source": [
    "It seems that MasVnrType have missed values, so it is better to drop these rows"
   ]
  },
  {
   "cell_type": "code",
   "execution_count": null,
   "metadata": {},
   "outputs": [],
   "source": [
    "indicies_masvnr = Full_train['MasVnrType'].isna()[Full_train['MasVnrType'].isna()].index\n",
    "indicies_masvnr"
   ]
  },
  {
   "cell_type": "markdown",
   "metadata": {},
   "source": [
    "features, that describe garage, have same count  of missed values. Probably, because they are all connected.\n",
    "However, Basement features doesnot match.\n",
    "Electricial seems to have missed value rather then it should be NaN."
   ]
  },
  {
   "cell_type": "code",
   "execution_count": null,
   "metadata": {},
   "outputs": [],
   "source": [
    "# I added numeric features describing garage to garage_feat to ssee whole picture\n",
    "garage_feat = ['GarageType','GarageFinish', 'GarageQual', 'GarageCond', 'GarageYrBlt', 'GarageCars', 'GarageArea']\n",
    "nadf = Full_train[garage_feat].isna()"
   ]
  },
  {
   "cell_type": "code",
   "execution_count": null,
   "metadata": {},
   "outputs": [],
   "source": [
    "Full_train[garage_feat]"
   ]
  },
  {
   "cell_type": "code",
   "execution_count": null,
   "metadata": {},
   "outputs": [],
   "source": [
    "(Full_train['GarageCars'] == 0).sum()"
   ]
  },
  {
   "cell_type": "code",
   "execution_count": null,
   "metadata": {},
   "outputs": [],
   "source": [
    "(Full_train['GarageArea'] == 0).sum()"
   ]
  },
  {
   "cell_type": "code",
   "execution_count": null,
   "metadata": {},
   "outputs": [],
   "source": [
    "Full_train['GarageYrBlt'].isna().sum()"
   ]
  },
  {
   "cell_type": "code",
   "execution_count": null,
   "metadata": {},
   "outputs": [],
   "source": [
    "Full_train[garage_feat][(nadf == True).any(axis=1)].head(5)"
   ]
  },
  {
   "cell_type": "markdown",
   "metadata": {},
   "source": [
    "For economy of workspace, I see only 5 rows, but this picture is true for the rest of df. When we see NaN, it is either Nan, or 0 in other columns. There is no zero's in other places. So, We can be sure that NaN or 0 means 'No Garage'."
   ]
  },
  {
   "cell_type": "markdown",
   "metadata": {},
   "source": [
    "Also, I should try to make categorical features from numeric(at least for GarageYrBlt and GarageCars). Probably, it will be better"
   ]
  },
  {
   "cell_type": "markdown",
   "metadata": {},
   "source": [
    "Here are bsm features, again - added some numeric features (probably it will be better for them to be categorical)"
   ]
  },
  {
   "cell_type": "code",
   "execution_count": null,
   "metadata": {},
   "outputs": [],
   "source": [
    "bsm_feat = ['BsmtQual','BsmtCond','BsmtExposure','BsmtFinType1','BsmtFinType2', \n",
    "            'BsmtFinSF1', 'BsmtFinSF2', 'BsmtUnfSF', 'TotalBsmtSF', 'BsmtFullBath', 'BsmtHalfBath']\n",
    "nadf = Full_train[bsm_feat].isna()\n",
    "Full_train[bsm_feat][(nadf == True).any(axis=1)].head(5)"
   ]
  },
  {
   "cell_type": "markdown",
   "metadata": {},
   "source": [
    "It is the same picture in whole df, except in 2 rows"
   ]
  },
  {
   "cell_type": "markdown",
   "metadata": {},
   "source": [
    "Rows with indices 333 and 949 are problematic, but in other cases everything seems like \"No basement = NaN\"."
   ]
  },
  {
   "cell_type": "code",
   "execution_count": null,
   "metadata": {},
   "outputs": [],
   "source": [
    "indices = [333,949]"
   ]
  },
  {
   "cell_type": "code",
   "execution_count": null,
   "metadata": {},
   "outputs": [],
   "source": [
    "Full_train[bsm_feat].loc[indices]"
   ]
  },
  {
   "cell_type": "markdown",
   "metadata": {},
   "source": [
    "It seems that thease houses have basements, but data about some columns is missing. Best choise, probably, just drop these rows,"
   ]
  },
  {
   "cell_type": "code",
   "execution_count": null,
   "metadata": {},
   "outputs": [],
   "source": [
    "indices_to_drop = list(indicies_masvnr) + indices + list(indicies_elec)\n",
    "print(len(indices_to_drop))\n",
    "print(indices_to_drop)"
   ]
  },
  {
   "cell_type": "markdown",
   "metadata": {},
   "source": [
    "I will account NaN as another category, replace NaN in df, drop problematic indices, and calculate ANOVA"
   ]
  },
  {
   "cell_type": "code",
   "execution_count": null,
   "metadata": {},
   "outputs": [],
   "source": [
    "df_with_nan.loc[indices_to_drop]"
   ]
  },
  {
   "cell_type": "code",
   "execution_count": null,
   "metadata": {},
   "outputs": [],
   "source": [
    "df_replaced_nan = df_with_nan.replace(np.nan, 'None').drop(indices_to_drop)\n",
    "df_replaced_nan"
   ]
  },
  {
   "cell_type": "markdown",
   "metadata": {},
   "source": [
    "ANOVA"
   ]
  },
  {
   "cell_type": "code",
   "execution_count": null,
   "metadata": {},
   "outputs": [],
   "source": [
    "cols_that_need_further_investigation, cols_with_big_F_score, cols_with_low_F_score = score_ANOVA(df_replaced_nan)"
   ]
  },
  {
   "cell_type": "code",
   "execution_count": null,
   "metadata": {},
   "outputs": [],
   "source": [
    "print(cols_with_big_F_score)"
   ]
  },
  {
   "cell_type": "code",
   "execution_count": null,
   "metadata": {},
   "outputs": [],
   "source": [
    "make_boxplots(cols_with_big_F_score, df_replaced_nan)"
   ]
  },
  {
   "cell_type": "code",
   "execution_count": null,
   "metadata": {},
   "outputs": [],
   "source": [
    "make_dist(df_replaced_nan, cols_with_big_F_score)"
   ]
  },
  {
   "cell_type": "code",
   "execution_count": null,
   "metadata": {},
   "outputs": [],
   "source": [
    "print(cols_with_low_F_score)"
   ]
  },
  {
   "cell_type": "code",
   "execution_count": null,
   "metadata": {},
   "outputs": [],
   "source": [
    "make_boxplots(cols_with_low_F_score,df_replaced_nan)"
   ]
  },
  {
   "cell_type": "markdown",
   "metadata": {},
   "source": [
    "And distribution of it shows below"
   ]
  },
  {
   "cell_type": "code",
   "execution_count": null,
   "metadata": {},
   "outputs": [],
   "source": [
    "make_dist(df_replaced_nan, cols_with_low_F_score)"
   ]
  },
  {
   "cell_type": "markdown",
   "metadata": {},
   "source": [
    "GarageQuality and BsmFinType1 are on line, using value_counts below shows that these variables are slight bigger than 5%"
   ]
  },
  {
   "cell_type": "code",
   "execution_count": null,
   "metadata": {},
   "outputs": [],
   "source": [
    "for col_info in cols_with_big_F_score+cols_with_low_F_score:\n",
    "    # get value_counts in percentage\n",
    "    col_name = col_info[0]\n",
    "    print(df_replaced_nan[col_name].value_counts() / len(df_replaced_nan) * 100)\n",
    "    print()"
   ]
  },
  {
   "cell_type": "code",
   "execution_count": null,
   "metadata": {},
   "outputs": [],
   "source": [
    "print(cols_that_need_further_investigation)"
   ]
  },
  {
   "cell_type": "code",
   "execution_count": null,
   "metadata": {},
   "outputs": [],
   "source": [
    "make_boxplots(cols_that_need_further_investigation,df_replaced_nan)"
   ]
  },
  {
   "cell_type": "markdown",
   "metadata": {},
   "source": [
    "I have played around with different groups and come to conclusion, that None of combinations of MiscFeature will be good predicator. And as for BsmtFinType2, It is almsost straight line, so it is cannot be good feature either"
   ]
  },
  {
   "cell_type": "code",
   "execution_count": null,
   "metadata": {},
   "outputs": [],
   "source": [
    "df_group = df_replaced_nan[['MiscFeature', 'SalePrice']]\n",
    "group = df_group.groupby('MiscFeature', as_index=False)"
   ]
  },
  {
   "cell_type": "code",
   "execution_count": null,
   "metadata": {},
   "outputs": [],
   "source": [
    "stats.f_oneway(group.get_group('Othr')['SalePrice'], group.get_group('Shed')['SalePrice'], group.get_group('Gar2')['SalePrice'])"
   ]
  },
  {
   "cell_type": "code",
   "execution_count": null,
   "metadata": {},
   "outputs": [],
   "source": [
    "features_cat_from_nan_very_good = [col[0] for col in cols_with_big_F_score]\n",
    "print(features_cat_from_nan_very_good)"
   ]
  },
  {
   "cell_type": "code",
   "execution_count": null,
   "metadata": {},
   "outputs": [],
   "source": [
    "features_cat_from_nan_maybe_good = [col[0] for col in cols_with_low_F_score]\n",
    "print(features_cat_from_nan_maybe_good)"
   ]
  },
  {
   "cell_type": "code",
   "execution_count": null,
   "metadata": {},
   "outputs": [],
   "source": [
    "cols_with_low_F_score"
   ]
  },
  {
   "cell_type": "code",
   "execution_count": null,
   "metadata": {},
   "outputs": [],
   "source": [
    "print(features_cat_from_nan_very_good)"
   ]
  },
  {
   "cell_type": "code",
   "execution_count": null,
   "metadata": {},
   "outputs": [],
   "source": [
    "print(features_cat_no_nan_very_good)"
   ]
  },
  {
   "cell_type": "code",
   "execution_count": null,
   "metadata": {},
   "outputs": [],
   "source": [
    "print(features_num_good_corr)"
   ]
  },
  {
   "cell_type": "code",
   "execution_count": null,
   "metadata": {},
   "outputs": [],
   "source": [
    "print(features_cat_from_nan_maybe_good)"
   ]
  },
  {
   "cell_type": "code",
   "execution_count": null,
   "metadata": {},
   "outputs": [],
   "source": [
    "print(features_cat_no_nan_maybe_good)"
   ]
  },
  {
   "cell_type": "code",
   "execution_count": null,
   "metadata": {},
   "outputs": [],
   "source": [
    "X_full['Total_bath'] = X_full['FullBath'] + X_full['HalfBath']"
   ]
  },
  {
   "cell_type": "code",
   "execution_count": null,
   "metadata": {},
   "outputs": [],
   "source": []
  },
  {
   "cell_type": "markdown",
   "metadata": {},
   "source": [
    "# Cross features"
   ]
  },
  {
   "cell_type": "code",
   "execution_count": null,
   "metadata": {},
   "outputs": [],
   "source": [
    "from itertools import combinations, permutations"
   ]
  },
  {
   "cell_type": "code",
   "execution_count": null,
   "metadata": {},
   "outputs": [],
   "source": [
    "c = combinations([1,2,3],2)\n",
    "for i in c:\n",
    "    print(i)"
   ]
  },
  {
   "cell_type": "code",
   "execution_count": null,
   "metadata": {},
   "outputs": [],
   "source": [
    "X_full.select_dtypes(exclude='object').columns"
   ]
  },
  {
   "cell_type": "code",
   "execution_count": null,
   "metadata": {},
   "outputs": [],
   "source": [
    "X_full['Total_bath'] = X_full['FullBath'] + X_full['HalfBath']"
   ]
  },
  {
   "cell_type": "code",
   "execution_count": null,
   "metadata": {},
   "outputs": [],
   "source": [
    "selected_features_df = X_full.select_dtypes(exclude='object')"
   ]
  },
  {
   "cell_type": "code",
   "execution_count": null,
   "metadata": {},
   "outputs": [],
   "source": [
    "total_columns = selected_features_df.columns\n",
    "c = combinations(total_columns,2)\n",
    "for comb in c:\n",
    "    x1 = comb[0]\n",
    "    x2 = comb[1]\n",
    "    selected_features_df[[x1 + '_x_' + x2]] = selected_features_df[x1] * selected_features_df[x2]\n",
    "selected_features_df = selected_features_df.join(y_full)"
   ]
  },
  {
   "cell_type": "code",
   "execution_count": null,
   "metadata": {},
   "outputs": [],
   "source": [
    "X_full.isna().sum()[X_full.isna().sum() > 0]"
   ]
  },
  {
   "cell_type": "code",
   "execution_count": null,
   "metadata": {},
   "outputs": [],
   "source": [
    "X_full.select_dtypes(exclude='object')"
   ]
  },
  {
   "cell_type": "code",
   "execution_count": null,
   "metadata": {},
   "outputs": [],
   "source": [
    "cross_features_df = selected_features_df.iloc[:, X_full.select_dtypes(exclude='object').shape[1]:]\n",
    "cross_features_df"
   ]
  },
  {
   "cell_type": "code",
   "execution_count": null,
   "metadata": {},
   "outputs": [],
   "source": [
    "cross_features_df = cross_features_df.dropna()"
   ]
  },
  {
   "cell_type": "code",
   "execution_count": null,
   "metadata": {},
   "outputs": [],
   "source": [
    "#cols_that_need_further_investigation, cols_with_big_F_score, cols_with_low_F_score  = score_ANOVA(cross_features_df)"
   ]
  },
  {
   "cell_type": "code",
   "execution_count": null,
   "metadata": {},
   "outputs": [],
   "source": [
    "#cols_with_big_F_score"
   ]
  },
  {
   "cell_type": "code",
   "execution_count": null,
   "metadata": {},
   "outputs": [],
   "source": [
    "#make_boxplots(cols_with_big_F_score[:15],data=cross_features_df,subplot_size=[6,6,1])"
   ]
  },
  {
   "cell_type": "code",
   "execution_count": null,
   "metadata": {},
   "outputs": [],
   "source": [
    "#cols_with_low_F_score[:15]"
   ]
  },
  {
   "cell_type": "code",
   "execution_count": null,
   "metadata": {},
   "outputs": [],
   "source": [
    "#s = cols_with_low_F_score"
   ]
  },
  {
   "cell_type": "code",
   "execution_count": null,
   "metadata": {},
   "outputs": [],
   "source": [
    "#cols_with_low_F_score[:15]"
   ]
  },
  {
   "cell_type": "code",
   "execution_count": null,
   "metadata": {},
   "outputs": [],
   "source": [
    "#make_boxplots(s[:10],data=cross_features_df,subplot_size=[6,6,1])"
   ]
  },
  {
   "cell_type": "code",
   "execution_count": null,
   "metadata": {},
   "outputs": [],
   "source": [
    "cross_corr = cross_features_df.corr()['SalePrice'].sort_values(ascending=False).dropna()"
   ]
  },
  {
   "cell_type": "code",
   "execution_count": null,
   "metadata": {},
   "outputs": [],
   "source": [
    "cross_corr[cross_corr > 0.75]"
   ]
  },
  {
   "cell_type": "code",
   "execution_count": null,
   "metadata": {},
   "outputs": [],
   "source": [
    "cross_cols = cross_corr[cross_corr > 0.5].iloc[1:].index"
   ]
  },
  {
   "cell_type": "code",
   "execution_count": null,
   "metadata": {},
   "outputs": [],
   "source": [
    "new_Full_df = selected_features_df.join(X_full.select_dtypes(include='object'))\n",
    "new_Full_df"
   ]
  },
  {
   "cell_type": "code",
   "execution_count": null,
   "metadata": {},
   "outputs": [],
   "source": [
    "print(features_cat_from_nan_very_good)"
   ]
  },
  {
   "cell_type": "code",
   "execution_count": null,
   "metadata": {},
   "outputs": [],
   "source": [
    "print(features_cat_no_nan_very_good)"
   ]
  },
  {
   "cell_type": "code",
   "execution_count": null,
   "metadata": {},
   "outputs": [],
   "source": [
    "print(features_num_good_corr)"
   ]
  },
  {
   "cell_type": "code",
   "execution_count": null,
   "metadata": {},
   "outputs": [],
   "source": [
    "print(features_cat_from_nan_maybe_good)"
   ]
  },
  {
   "cell_type": "code",
   "execution_count": null,
   "metadata": {},
   "outputs": [],
   "source": [
    "print(features_cat_no_nan_maybe_good)"
   ]
  },
  {
   "cell_type": "code",
   "execution_count": null,
   "metadata": {},
   "outputs": [],
   "source": [
    "new_Full_df['Total_Bath'] = new_Full_df['FullBath'] + new_Full_df['HalfBath']"
   ]
  },
  {
   "cell_type": "code",
   "execution_count": null,
   "metadata": {},
   "outputs": [],
   "source": [
    "new_train_df = new_Full_df[['SalePrice'] + features_cat_from_nan_very_good + features_cat_no_nan_very_good + \n",
    "           features_num_good_corr + features_cat_from_nan_maybe_good + features_cat_no_nan_maybe_good +\n",
    "           list(cross_cols)\n",
    "           ]"
   ]
  },
  {
   "cell_type": "code",
   "execution_count": null,
   "metadata": {},
   "outputs": [],
   "source": [
    "new_train_df"
   ]
  },
  {
   "cell_type": "code",
   "execution_count": null,
   "metadata": {},
   "outputs": [],
   "source": []
  }
 ],
 "metadata": {
  "kernelspec": {
   "display_name": "Python 3",
   "language": "python",
   "name": "python3"
  },
  "language_info": {
   "codemirror_mode": {
    "name": "ipython",
    "version": 3
   },
   "file_extension": ".py",
   "mimetype": "text/x-python",
   "name": "python",
   "nbconvert_exporter": "python",
   "pygments_lexer": "ipython3",
   "version": "3.8.2"
  }
 },
 "nbformat": 4,
 "nbformat_minor": 4
}
